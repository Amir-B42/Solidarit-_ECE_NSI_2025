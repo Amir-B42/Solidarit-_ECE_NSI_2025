{
 "cells": [
  {
   "cell_type": "code",
   "execution_count": 39,
   "id": "a742f06d",
   "metadata": {},
   "outputs": [
    {
     "name": "stdout",
     "output_type": "stream",
     "text": [
      "[2, 3]\n"
     ]
    },
    {
     "data": {
      "text/plain": [
       "'111221'"
      ]
     },
     "execution_count": 39,
     "metadata": {},
     "output_type": "execute_result"
    }
   ],
   "source": [
    "from colorama import Fore\n",
    "#ECE 1\n",
    "#EX1 :\n",
    "def voisins_entrants(adj,x): #Faut regarder pour chaque noeud si y'en a un qui va vers x\n",
    "    liste_entrants = []\n",
    "    for i in range(len(adj)):\n",
    "        if x in adj[i]:\n",
    "            liste_entrants.append(i)\n",
    "    return liste_entrants\n",
    "\n",
    "print(voisins_entrants([[1, 2], [2], [0], [0]], 0))\n",
    "\n",
    "#EX 2 :\n",
    "def nombre_suivant(s):\n",
    "    '''Renvoie le nombre suivant de celui representé par s\n",
    "    en appliquant le procédé de lecture.'''\n",
    "    resultat = ''\n",
    "    chiffre = s[0]\n",
    "    compte = 1\n",
    "    for i in range(1,len(s)):\n",
    "        if s[i] == chiffre:\n",
    "            compte += 1\n",
    "        else:\n",
    "            resultat += str(compte) + chiffre\n",
    "            chiffre = s[i]\n",
    "            compte = 1\n",
    "    lecture_chiffre = str(compte) + chiffre\n",
    "    resultat += lecture_chiffre\n",
    "    return resultat\n",
    "\n",
    "nombre_suivant('1211')\n"
   ]
  },
  {
   "cell_type": "code",
   "execution_count": 40,
   "id": "ef08c6dc",
   "metadata": {},
   "outputs": [
    {
     "name": "stdout",
     "output_type": "stream",
     "text": [
      "(9, 3)\n",
      "False\n",
      "4\n"
     ]
    }
   ],
   "source": [
    "#ECE 2\n",
    "#EX 1 : \n",
    "def max_et_indice(tab): #ça c vrm facile faut pas abuser\n",
    "    max = tab[0]\n",
    "    ind = 0\n",
    "    for i in range(len(tab)):\n",
    "        if tab[i] > max:\n",
    "            max = tab[i]\n",
    "            ind = i\n",
    "    return (max,ind)\n",
    "\n",
    "print(max_et_indice([1, 5, 6, 9, 1, 2, 3, 7, 9, 8]))\n",
    "\n",
    "#EX 2 : \n",
    "def est_un_ordre(tab):\n",
    "    '''\n",
    "    Renvoie True si tab est de longueur n et contient tous les\n",
    "    entiers de 1 à n, False sinon\n",
    "    '''\n",
    "    n = len(tab)\n",
    "    # les entiers vus lors du parcours\n",
    "    vus = []\n",
    "    for x in tab:\n",
    "        if x < 1 or x >n or x in vus:\n",
    "            return False\n",
    "    vus.append(x)\n",
    "    return True\n",
    "\n",
    "def nombre_points_rupture(ordre):\n",
    "    '''\n",
    "    Renvoie le nombre de point de rupture de ordre qui représente\n",
    "    un ordre de gènes de chromosome\n",
    "    '''\n",
    "    # on vérifie que ordre est un ordre de gènes\n",
    "    assert est_un_ordre(ordre)\n",
    "    n = len(ordre)\n",
    "    nb = 0\n",
    "    if ordre[0] != 1: # le premier n'est pas 1\n",
    "        nb = nb + 1\n",
    "    i = 0\n",
    "    while i < n-1:\n",
    "        if ordre[i] - ordre[i+1] not in [-1, 1]: # l'écart n'est pas 1\n",
    "            nb = nb + 1\n",
    "        i = i + 1\n",
    "    if ordre[i] != n:\n",
    "        nb += 1\n",
    "    return nb\n",
    "\n",
    "print(est_un_ordre([1, 6, 2, 8, 3, 7]))\n",
    "print(nombre_points_rupture([5, 4, 3, 6, 7, 2, 1, 8, 9]))\n",
    "\n"
   ]
  },
  {
   "cell_type": "code",
   "execution_count": 41,
   "id": "f9719790",
   "metadata": {},
   "outputs": [
    {
     "name": "stdout",
     "output_type": "stream",
     "text": [
      "75025\n",
      "(80, ['c', 'f', 'h'])\n"
     ]
    }
   ],
   "source": [
    "# ECE 3\n",
    "#EX 1 :\n",
    "def fibonnaci(n): #cours, recursivement c le plus simple (mais après faudra savoir expliquer)\n",
    "    if n <= 2:\n",
    "        return 1\n",
    "    else:\n",
    "        return fibonnaci(n-1) + fibonnaci(n-2)\n",
    "    \n",
    "print(fibonnaci(25))\n",
    "\n",
    "#EX 2 :\n",
    "def eleves_du_mois(eleves, notes):\n",
    "    note_maxi = 0\n",
    "    meilleurs_eleves = eleves[0]\n",
    "    for i in range(len(eleves)):\n",
    "        if notes[i] == note_maxi:\n",
    "            meilleurs_eleves.append(eleves[i])\n",
    "        elif notes[i] > note_maxi:\n",
    "            note_maxi = notes[i]\n",
    "            meilleurs_eleves = [eleves[i]]\n",
    "    return (note_maxi, meilleurs_eleves)\n",
    "\n",
    "eleves_nsi = ['a','b','c','d','e','f','g','h','i','j']\n",
    "notes_nsi = [30, 40, 80, 60, 58, 80, 75, 80, 60, 24]\n",
    "print(eleves_du_mois(eleves_nsi, notes_nsi))\n"
   ]
  },
  {
   "cell_type": "code",
   "execution_count": 42,
   "id": "946ac747",
   "metadata": {},
   "outputs": [
    {
     "name": "stdout",
     "output_type": "stream",
     "text": [
      "1101001\n",
      "[1, 2, 3, 3, 6, 7, 9]\n"
     ]
    }
   ],
   "source": [
    "# ECE 4\n",
    "# EX 1 : \n",
    "def ecriture_binaire_entier_positif(n): #technique un peu, faut faire avec des divisions succéessives par 2, jusqu'à ce qu'on ait 1\n",
    "    bin = \"\"\n",
    "    while n > 0:\n",
    "        bin = str(n%2) + bin\n",
    "        n = n//2\n",
    "    return bin\n",
    "\n",
    "print(ecriture_binaire_entier_positif(105))\n",
    "\n",
    "#EX 2 :\n",
    "def echange(tab, i, j):\n",
    "    '''Echange les éléments d'indice i et j dans le tableau tab.'''\n",
    "    temp = tab[i]\n",
    "    tab[i] = tab[j]\n",
    "    tab[j] = temp\n",
    "\n",
    "def tri_bulles(tab):\n",
    "    '''Trie le tableau tab dans l'ordre croissant\n",
    "    par la méthode du tri à bulles.'''\n",
    "    n = len(tab)\n",
    "    for i in range(n-1,-1,-1):\n",
    "        for j in range(i):\n",
    "            if tab[j] > tab[j+1]:\n",
    "                echange(tab, j, j+1)\n",
    "\n",
    "tab2 = [9, 3, 7, 2, 3, 1, 6]\n",
    "tri_bulles(tab2)\n",
    "print(tab2)\n",
    "\n",
    "\n"
   ]
  },
  {
   "cell_type": "code",
   "execution_count": 43,
   "id": "852b39a9",
   "metadata": {},
   "outputs": [
    {
     "name": "stdout",
     "output_type": "stream",
     "text": [
      "okik\n",
      "[2, 3, 5, 7, 11, 13, 17, 19, 23, 29, 31, 37]\n"
     ]
    }
   ],
   "source": [
    "#ECE 5\n",
    "#EX 1 : \n",
    "def renverse(mot): #Si vous connaissiez pas ça vs etes cooked sah\n",
    "    return mot[::-1]\n",
    "\n",
    "print(renverse(\"kiko\"))\n",
    "#EX 2 : \n",
    "\n",
    "def crible(n):\n",
    "    \"\"\"Renvoie un tableau contenant tous les nombres premiers\n",
    "    plus petits que n.\"\"\"\n",
    "    premiers = []\n",
    "    tab = [True] * n\n",
    "    tab[0], tab[1] = False, False\n",
    "    for i in range(n):\n",
    "        if tab[i]:\n",
    "            premiers.append(i)\n",
    "            multiple = i*2\n",
    "            while multiple < n:\n",
    "                tab[multiple] = False\n",
    "                multiple += i\n",
    "    return premiers\n",
    "\n",
    "print(crible(40))"
   ]
  },
  {
   "cell_type": "code",
   "execution_count": 44,
   "id": "df5a90df",
   "metadata": {},
   "outputs": [
    {
     "name": "stdout",
     "output_type": "stream",
     "text": [
      "[2, 4, 8]\n",
      "(37, 1121914, True)\n",
      "(50, 1612112, False)\n"
     ]
    }
   ],
   "source": [
    "#ECE 6\n",
    "#EX 1 : \n",
    "def listes_puissances(a,borne): #mettre un nombre puissance n c'est le multiplier n fois par lui même, simple\n",
    "    liste_puis = [a]\n",
    "    nb = a\n",
    "    while nb*a < borne:\n",
    "        nb = nb*a\n",
    "        liste_puis.append(nb)\n",
    "    return liste_puis\n",
    "\n",
    "print(listes_puissances(2,16))\n",
    "\n",
    "#EX 2 : \n",
    "dico = {\"A\": 1, \"B\": 2, \"C\": 3, \"D\": 4, \"E\": 5, \"F\": 6,\n",
    "\"G\": 7, \"H\": 8, \"I\": 9, \"J\": 10, \"K\": 11, \"L\": 12,\n",
    "\"M\": 13, \"N\": 14, \"O\": 15, \"P\": 16, \"Q\": 17,\n",
    "\"R\": 18, \"S\": 19, \"T\": 20, \"U\": 21, \"V\": 22,\n",
    "\"W\": 23, \"X\": 24, \"Y\": 25, \"Z\": 26}\n",
    "\n",
    "def codes_parfait(mot):\n",
    "    \"\"\"Renvoie un triplet\n",
    "    (code_additionne, code_concatene, mot_est_parfait) où :\n",
    "    - code_additionne est la somme des codes des lettres du mot ;\n",
    "    - code_concatene est le code des lettres du mot concaténées ;\n",
    "    - mot_est_parfait est un booléen indiquant si le mot est\n",
    "    ↪ parfait.\"\"\"\n",
    "    code_concatene = \"\"\n",
    "    code_additionne = 0\n",
    "    for c in mot:\n",
    "        code_concatene = code_concatene + str(dico[c])\n",
    "        code_additionne = code_additionne + int(dico[c])\n",
    "    code_concatene = int(code_concatene)\n",
    "    mot_est_parfait = code_concatene%code_additionne == 0\n",
    "    return code_additionne, code_concatene, mot_est_parfait\n",
    "\n",
    "print(codes_parfait(\"ALAIN\"))\n",
    "print(codes_parfait(\"PAUL\"))"
   ]
  },
  {
   "cell_type": "code",
   "execution_count": 45,
   "id": "3dc8b0b7",
   "metadata": {},
   "outputs": [
    {
     "name": "stdout",
     "output_type": "stream",
     "text": [
      "{'c': 2, 'o': 2, 'u': 2, 's': 2, ' ': 1, 'm': 2, 'a': 2, 'd': 1, 'e': 1}\n",
      "[0, 1, 6, 7, 8, 9, 10]\n",
      "\u001b[31mLA 2 EST INCOMPREHENSIBLE\u001b[39m\n"
     ]
    }
   ],
   "source": [
    "#ECE 7\n",
    "#EX 1 : \n",
    "def nbr_occurences(chaine): #ça aussi c vrm basique, faut juste comprendre le dico.keys() (ça permet de voir toutes les clés d'un dico)\n",
    "    dico = {}\n",
    "    for i in chaine:\n",
    "        if i in dico.keys():\n",
    "            dico[i] += 1\n",
    "        else:\n",
    "            dico[i] = 1\n",
    "    return dico\n",
    "\n",
    "print(nbr_occurences(\"couscous madame\"))\n",
    "\n",
    "#EX 2 : \n",
    "def fusion(tab1,tab2):\n",
    "    '''Fusionne deux tableaux triés et renvoie\n",
    "    le nouveau tableau trié.'''\n",
    "    n1 = len(tab1)\n",
    "    n2 = len(tab2)\n",
    "    tab12 = [0] * (n1 + n2)\n",
    "    i1 = 0\n",
    "    i2 = 0\n",
    "    i = 0\n",
    "    while i1 < n1 and i2 < n2:\n",
    "        if tab1[i1] < tab2[i2]:\n",
    "            tab12[i] = tab1[i1]\n",
    "            i1 += 1\n",
    "        else:\n",
    "            tab12[i] = tab2[i2]\n",
    "            i2 += 1\n",
    "        i += 1\n",
    "    while i1 < n1:\n",
    "        tab12[i] = tab1[i1]\n",
    "        i1 = i1 + 1\n",
    "        i += 1\n",
    "    while i2 < n2:\n",
    "        tab12[i] = tab2[i2]\n",
    "        i2 = i2 + 1\n",
    "        i += 1\n",
    "    return tab12\n",
    "\n",
    "print(fusion([1, 6, 10],[0, 7, 8, 9]))\n",
    "\n",
    "print(f\"{Fore.RED}LA 2 EST INCOMPREHENSIBLE{Fore.RESET}\")"
   ]
  },
  {
   "cell_type": "code",
   "execution_count": 46,
   "id": "a61a7519",
   "metadata": {},
   "outputs": [
    {
     "name": "stdout",
     "output_type": "stream",
     "text": [
      "24\n",
      "True\n",
      "False\n"
     ]
    }
   ],
   "source": [
    "#ECE 8\n",
    "#EX 1 : \n",
    "def maximum_tableau(tab): # Pareil, niveau SNT franchement\n",
    "    max = tab[0]\n",
    "    for i in tab:\n",
    "        if i >max:\n",
    "            max = i\n",
    "    return max\n",
    "\n",
    "print(maximum_tableau([-27, 24, -3, 15]))\n",
    "\n",
    "#EX 2 : \n",
    "\n",
    "class Pile:\n",
    "    \"\"\"Classe définissant une structure de pile.\"\"\"\n",
    "    def __init__(self):\n",
    "        self.contenu = []\n",
    "    def est_vide(self):\n",
    "        \"\"\"Renvoie un booléen indiquant si la pile est vide.\"\"\"\n",
    "        return self.contenu == []\n",
    "    def empiler(self, v):\n",
    "        \"\"\"Place l'élément v au sommet de la pile\"\"\"\n",
    "        self.contenu.append(v)\n",
    "    def depiler(self):\n",
    "        \"\"\"\n",
    "        Retire et renvoie l'élément placé au sommet de la pile,\n",
    "        si la pile n’est pas vide. Produit une erreur sinon.\n",
    "        \"\"\"\n",
    "        assert not self.est_vide()\n",
    "        return self.contenu.pop()\n",
    "    \n",
    "def bon_parenthesage(ch):\n",
    "    \"\"\"Renvoie un booléen indiquant si la chaîne ch\n",
    "    est bien parenthésée\"\"\"\n",
    "    p = Pile()\n",
    "    for c in ch:\n",
    "        if c == \"(\":\n",
    "            p.empiler(c)\n",
    "        elif c == \")\":\n",
    "            if p.est_vide():\n",
    "                return False\n",
    "            else:\n",
    "                p.depiler()\n",
    "    return p.est_vide()\n",
    "\n",
    "print(bon_parenthesage(\"((()())(()))\"))\n",
    "print(bon_parenthesage(\"())(()\"))\n"
   ]
  },
  {
   "cell_type": "code",
   "execution_count": 47,
   "id": "074a79cf",
   "metadata": {},
   "outputs": [
    {
     "name": "stdout",
     "output_type": "stream",
     "text": [
      "15\n",
      "True\n"
     ]
    }
   ],
   "source": [
    "#ECE 9\n",
    "#EX 1 : \n",
    "def multiplication(a,b): #multiplier un nombre par n, c'est l'additioner n fois avec lui même, pareil que pour les puissances mais avec un +\n",
    "    nb = 0\n",
    "    if b > 0: #Juste la faut faire attention car on peut multiplier par un nombre négatif\n",
    "        for i in range(b):\n",
    "            nb += a\n",
    "    else:\n",
    "        for i in range(-b):\n",
    "            nb -= a\n",
    "    return nb\n",
    "\n",
    "print(multiplication(3,5))\n",
    "#EX 2 : \n",
    "\n",
    "def dichotomie(tab, x):\n",
    "    \"\"\"\n",
    "    tab : tableau d'entiers trié dans l'ordre croissant\n",
    "    x : nombre entier\n",
    "    La fonction renvoie True si tab contient x et False sinon\n",
    "    \"\"\"\n",
    "    debut = 0\n",
    "    fin = len(tab) - 1\n",
    "    while debut <= fin:\n",
    "        m = (debut+fin)//2\n",
    "        if x == tab[m]:\n",
    "            return True\n",
    "        if x > tab[m]:\n",
    "            debut = m + 1\n",
    "        else:\n",
    "            fin = m-1\n",
    "    return False\n",
    "\n",
    "print(dichotomie([15, 16, 18, 19, 23, 24, 28, 29, 31, 33],28))"
   ]
  },
  {
   "cell_type": "code",
   "execution_count": 48,
   "id": "d667e0d0",
   "metadata": {},
   "outputs": [
    {
     "name": "stdout",
     "output_type": "stream",
     "text": [
      "3\n",
      "FSRNSYV E XSYW. ZMZI PE QEXMIVI RWM !\n"
     ]
    }
   ],
   "source": [
    "#ECE 10\n",
    "#EX 1 : \n",
    "def recherche(tab,n): #dichotomie c du cours, a savoir par coeur\n",
    "    debut = 0\n",
    "    fin = len(tab)\n",
    "    while debut<=fin:\n",
    "        m = (debut+fin)//2\n",
    "        if tab[m] == n:\n",
    "            return m\n",
    "        elif tab[m] < n:\n",
    "            debut = m+1\n",
    "        else:\n",
    "            fin  =m-1\n",
    "    return None\n",
    "\n",
    "print(recherche([2, 3, 4, 5, 6], 5))\n",
    "\n",
    "#EX 2 : \n",
    "alphabet = 'ABCDEFGHIJKLMNOPQRSTUVWXYZ'\n",
    "\n",
    "def position_alphabet(lettre):\n",
    "    '''Renvoie la position de la lettre dans l'alphabet'''\n",
    "    return ord(lettre) - ord('A')\n",
    "\n",
    "def cesar(message, decalage):\n",
    "    '''Renvoie le message codé par la méthode de César\n",
    "    pour le decalage donné'''\n",
    "    resultat = ''\n",
    "    for c in message:\n",
    "        if 'A' <= c and c <= 'Z':\n",
    "            indice = (position_alphabet(c)+decalage) % 26\n",
    "            resultat = resultat + alphabet[indice]\n",
    "        else:\n",
    "            resultat = resultat + c\n",
    "    return resultat\n",
    "\n",
    "print(cesar('BONJOUR A TOUS. VIVE LA MATIERE NSI !', 4))\n"
   ]
  },
  {
   "cell_type": "code",
   "execution_count": 49,
   "id": "0865e1d8",
   "metadata": {},
   "outputs": [
    {
     "name": "stdout",
     "output_type": "stream",
     "text": [
      "[4, 2, 6, 1, 3, 5, 7]\n",
      "15\n",
      "18\n",
      "\u001b[31mPARCOURS D ARBRES A APPR PAR COEUR \n",
      " MEME LEURS SOMMES SONT HARR FRR\u001b[39m \n"
     ]
    }
   ],
   "source": [
    "#ECE 11\n",
    "#EX 1 : \n",
    "class File():\n",
    "    def __init__(self):\n",
    "        self.data = []\n",
    "    def enfiler(self,elt):\n",
    "        self.data.append(elt)\n",
    "    def defiler(self):\n",
    "        return self.data.pop(0)\n",
    "    def est_vide(self):\n",
    "        return self.data == []\n",
    "    \n",
    "def parcours_largeur(arbre): #ça aussi a savoir par coeur, c trop tard pr comprendre\n",
    "    parc = []\n",
    "    f = File()\n",
    "    f.enfiler(arbre)\n",
    "    while not f.est_vide():\n",
    "        s = f.defiler()\n",
    "        parc.append(s[1])\n",
    "        if s[0] != None:\n",
    "            f.enfiler(s[0])\n",
    "        if s[2] != None:\n",
    "            f.enfiler(s[2])\n",
    "    return parc\n",
    "\n",
    "arbre = ( ( (None, 1, None), 2, (None, 3, None) ),4,( (None, 5, None), 6, (None, 7, None) ) )\n",
    "print(parcours_largeur(arbre)) \n",
    "#EX 2 : \n",
    "\n",
    "def somme_max(tab):\n",
    "    n = len(tab)\n",
    "    sommes_max = [0]*n\n",
    "    sommes_max[0] = tab[0]\n",
    "    # on calcule la plus grande somme se terminant en i\n",
    "    for i in range(1,n):\n",
    "        if sommes_max[i-1] + tab[i] > tab[i]:\n",
    "            sommes_max[i] = sommes_max[i-1] + tab[i]\n",
    "        else:\n",
    "            sommes_max[i] = tab[i]\n",
    "    # on en déduit la plus grande somme de celles-ci\n",
    "    maximum = 0\n",
    "    for i in range(1, n):\n",
    "        if sommes_max[i] > sommes_max[maximum]:\n",
    "            maximum = i\n",
    "    return sommes_max[maximum]\n",
    "\n",
    "print(somme_max([1, 2, 3, 4, 5]))\n",
    "print(somme_max([1, -2, 3, 10, -4, 7, 2, -5]))\n",
    "\n",
    "\n",
    "print(f'{Fore.RED}PARCOURS D ARBRES A APPR PAR COEUR \\n MEME LEURS SOMMES SONT HARR FRR{Fore.RESET} ')"
   ]
  },
  {
   "cell_type": "code",
   "execution_count": 50,
   "id": "f109b47e",
   "metadata": {},
   "outputs": [
    {
     "name": "stdout",
     "output_type": "stream",
     "text": [
      "[-3, -2, 4, 5, 10]\n",
      "2024\n",
      "14\n",
      "\u001b[31mTRI FUSION AUSSI A SAVOIR PR COEUR, plus romain un peu chaud\u001b[39m \n"
     ]
    }
   ],
   "source": [
    "#ECE 12\n",
    "#EX 1 : \n",
    "def fusion(A,B): #Encore une fois du par coeur, révisez bien vos cours hein\n",
    "    if A == []:\n",
    "        return B\n",
    "    if B == []:\n",
    "        return A\n",
    "    if A[0] <= B[0]:\n",
    "        return [A[0]] + fusion(A[1:],B)\n",
    "    else:\n",
    "        return [B[0]] + fusion(A,B[1:])\n",
    "    \n",
    "print(fusion([-2, 4], [-3, 5, 10]))\n",
    "\n",
    "#EX 2 : \n",
    "romains = {\"I\":1, \"V\":5, \"X\":10, \"L\":50, \"C\":100, \"D\":500,\"M\":1000}\n",
    "\n",
    "def traduire_romain(nombre):\n",
    "    \"\"\" Renvoie l'écriture décimale du nombre donné en chiffres\n",
    "    romains \"\"\"\n",
    "    if len(nombre) == 1:\n",
    "        return romains[nombre]\n",
    "    elif romains[nombre[0]] >= romains[nombre[1]]:\n",
    "        return romains[nombre[0]] + traduire_romain(nombre[1:])\n",
    "    else:\n",
    "        return traduire_romain(nombre[1:]) - romains[nombre[0]] \n",
    "    \n",
    "print(traduire_romain(\"MMXXIV\"))\n",
    "print( traduire_romain(\"XIV\"))\n",
    "\n",
    "print(f'{Fore.RED}TRI FUSION AUSSI A SAVOIR PR COEUR, plus romain un peu chaud{Fore.RESET} ')"
   ]
  },
  {
   "cell_type": "code",
   "execution_count": 51,
   "id": "2b4e59aa",
   "metadata": {},
   "outputs": [
    {
     "name": "stdout",
     "output_type": "stream",
     "text": [
      "2\n",
      "[1, 2, 7, 12, 14, 25, 30]\n",
      "[1, 2, 3, 4, 5]\n"
     ]
    }
   ],
   "source": [
    "#ECE 13\n",
    "#EX 1 : \n",
    "def recherche(elt,tab):\n",
    "    for i in range(len(tab)):\n",
    "        if tab[i] == elt:\n",
    "            return i\n",
    "    return None\n",
    "\n",
    "print(recherche(1, [10, 12, 1, 56]))\n",
    "#EX 2 : \n",
    "def insere(tab, a):\n",
    "    \"\"\"\n",
    "    Insère l'élément a (int) dans le tableau tab (list)\n",
    "    trié par ordre croissant à sa place et renvoie le\n",
    "    nouveau tableau.\n",
    "    \"\"\"\n",
    "    tab_a = [ a ] + tab # nouveau tableau contenant a\n",
    "    # suivi des éléments de tab\n",
    "    i = 0\n",
    "    while i < len(tab) and a > tab[i]:\n",
    "        tab_a[i] = tab[i]\n",
    "        tab_a[i+1] = a\n",
    "        i += 1\n",
    "    return tab_a\n",
    "\n",
    "print(insere([1, 2, 7, 12, 14, 25], 30))\n",
    "print(insere([1, 2, 4, 5], 3))\n"
   ]
  },
  {
   "cell_type": "code",
   "execution_count": 52,
   "id": "a964001d",
   "metadata": {},
   "outputs": [
    {
     "name": "stdout",
     "output_type": "stream",
     "text": [
      "[2, 2, 1, 1, 4]\n",
      "False\n",
      "4\n",
      "5\n",
      "[[235, 221, 1, 110, 249], [232, 131, 18, 30, 186], [58, 81, 48, 230, 168], [0, 255, 231, 58, 66]]\n",
      "[[0, 0, 255, 255, 0], [0, 255, 255, 255, 0], [255, 255, 255, 0, 0], [255, 0, 0, 255, 255]]\n"
     ]
    }
   ],
   "source": [
    "#ECE 14\n",
    "#EX 1 : \n",
    "import random as rd\n",
    "def lancer(n): # Juste un petit rd.randint, rien de dur\n",
    "    tab = []\n",
    "    for i in range(n):\n",
    "        tab.append(rd.randint(1,6))\n",
    "    return tab\n",
    "\n",
    "def paire_6(tab): #La faut juste compter le nombre de 6 et dire si y'en plus que 2\n",
    "    nb = 0\n",
    "    for i in tab:\n",
    "        if i == 6:\n",
    "            nb+=1\n",
    "    return nb >= 2\n",
    "\n",
    "lancer_5 = lancer(5)\n",
    "print(lancer_5)\n",
    "print(paire_6(lancer_5))\n",
    "\n",
    "#EX 2 : \n",
    "def nombre_lignes(image):\n",
    "    '''renvoie le nombre de lignes de l'image'''\n",
    "    return len(image)\n",
    "\n",
    "def nombre_colonnes(image):\n",
    "    '''renvoie la largeur de l'image'''\n",
    "    return len(image[0])\n",
    "\n",
    "def negatif(image):\n",
    "    '''renvoie le negatif de l'image sous la forme\n",
    "    d'une liste de listes'''\n",
    "    # on cree une image de 0 aux memes dimensions\n",
    "    # que le parametre image\n",
    "    nouvelle_image = [[0 for k in range(nombre_colonnes(image))] for i in range(nombre_lignes(image))]\n",
    "    for i in range(nombre_lignes(image)):\n",
    "        for j in range(nombre_colonnes(image)):\n",
    "            nouvelle_image[i][j] = 255 - image[i][j]\n",
    "    return nouvelle_image\n",
    "\n",
    "def binaire(image, seuil):\n",
    "    '''renvoie une image binarisee de l'image sous la forme\n",
    "    d'une liste de listes contenant des 0 si la valeur\n",
    "    du pixel est strictement inferieure au seuil et 255 sinon'''\n",
    "    nouvelle_image = [[0] * nombre_colonnes(image) for i in range(nombre_lignes(image))]\n",
    "    for i in range(nombre_lignes(image)):\n",
    "        for j in range(nombre_colonnes(image)):\n",
    "            if image[i][j] < seuil :\n",
    "                nouvelle_image[i][j] = 0\n",
    "            else:\n",
    "                nouvelle_image[i][j] = 255\n",
    "    return nouvelle_image\n",
    "\n",
    "img=[[20, 34, 254, 145, 6], [23, 124, 237, 225, 69],\n",
    "[197, 174, 207, 25, 87], [255, 0, 24, 197, 189]]\n",
    "print(nombre_lignes(img))\n",
    "print(nombre_colonnes(img))\n",
    "print(negatif(img))\n",
    "print(binaire(img,120))"
   ]
  },
  {
   "cell_type": "code",
   "execution_count": 53,
   "id": "1369326c",
   "metadata": {},
   "outputs": [
    {
     "name": "stdout",
     "output_type": "stream",
     "text": [
      "-32\n"
     ]
    },
    {
     "data": {
      "text/plain": [
       "2"
      ]
     },
     "execution_count": 53,
     "metadata": {},
     "output_type": "execute_result"
    }
   ],
   "source": [
    "#ECE 15\n",
    "#EX 1 : \n",
    "def multiplication(a,b): #Pareil qu'avant\n",
    "    nb = 0\n",
    "    if b > 0:\n",
    "        for i in range(b):\n",
    "            nb += a\n",
    "    else:\n",
    "        for i in range(-b):\n",
    "            nb -= a\n",
    "    return nb\n",
    "\n",
    "print(multiplication(4,-8))\n",
    "#EX 2 : \n",
    "def chercher(tab, x, i, j):\n",
    "    '''Renvoie l'indice de x dans tab, si x est dans tab,\n",
    "    None sinon.\n",
    "    On suppose que tab est trié dans l'ordre croissant.'''\n",
    "    if i > j:\n",
    "        return None\n",
    "    m = (i + j) // 2\n",
    "    if tab[m] < x:\n",
    "        return chercher(tab, x, m+1 , j)\n",
    "    elif tab[m] > x:\n",
    "        return chercher(tab, x, i , m-1)\n",
    "    else:\n",
    "        return m\n",
    "    \n",
    "chercher([1, 5, 6, 6, 9, 12], 6, 0, 5)\n",
    "\n"
   ]
  },
  {
   "cell_type": "code",
   "execution_count": 54,
   "id": "ff3a967f",
   "metadata": {},
   "outputs": [
    {
     "name": "stdout",
     "output_type": "stream",
     "text": [
      "12.5\n",
      "[1, 4, 6, 4, 1]\n"
     ]
    },
    {
     "data": {
      "text/plain": [
       "[[1], [1, 1], [1, 2, 1], [1, 3, 3, 1]]"
      ]
     },
     "execution_count": 54,
     "metadata": {},
     "output_type": "execute_result"
    }
   ],
   "source": [
    "#ECE 16\n",
    "#EX 1 : \n",
    "def moyenne(notes):\n",
    "    s = 0\n",
    "    c = 0\n",
    "    for i in notes:\n",
    "        s += i[0]*i[1]\n",
    "        c += i[1]\n",
    "    return s/c\n",
    "\n",
    "print(moyenne([(15.0,2),(9.0,1),(12.0,3)]))\n",
    "#EX 2 : \n",
    "def ligne_suivante(ligne):\n",
    "    '''Renvoie la ligne suivant ligne du triangle de Pascal'''\n",
    "    ligne_suiv = [1]\n",
    "    for i in range(1,len(ligne)):\n",
    "        ligne_suiv.append(ligne[i]+ligne[i-1])\n",
    "    ligne_suiv.append(1)\n",
    "    return ligne_suiv\n",
    "\n",
    "def pascal(n):\n",
    "    '''Renvoie le triangle de Pascal de hauteur n'''\n",
    "    triangle = [ [1] ]\n",
    "    for k in range(n):\n",
    "        ligne_k = ligne_suivante(triangle[k])\n",
    "        triangle.append(ligne_k)\n",
    "    return triangle\n",
    "\n",
    "print(ligne_suivante([1, 3, 3, 1]))\n",
    "pascal(3)\n"
   ]
  },
  {
   "cell_type": "code",
   "execution_count": 55,
   "id": "e1b55e01",
   "metadata": {},
   "outputs": [
    {
     "name": "stdout",
     "output_type": "stream",
     "text": [
      "2 4\n"
     ]
    },
    {
     "data": {
      "text/plain": [
       "[7, 8, 4, 9]"
      ]
     },
     "execution_count": 55,
     "metadata": {},
     "output_type": "execute_result"
    }
   ],
   "source": [
    "#ECE 17\n",
    "#EX 1 : \n",
    "class Noeud:\n",
    "    def __init__(self, etiquette, gauche, droit):\n",
    "        self.v = etiquette\n",
    "        self.gauche = gauche\n",
    "        self.droit = droit\n",
    "\n",
    "def taille(a):\n",
    "    if a == None:\n",
    "        return 0\n",
    "    else:\n",
    "        return 1 + taille(a.gauche) + taille(a.droit)\n",
    "\n",
    "def hauteur(a):\n",
    "    if a == None:\n",
    "        return -1\n",
    "    else:\n",
    "        return 1 + max(hauteur(a.gauche),hauteur(a.droit))\n",
    "\n",
    "a = Noeud(1, Noeud(4, None, None),Noeud(0, None,Noeud(7, None, None)))\n",
    "print(hauteur(a),taille(a))\n",
    "\n",
    "#EX 2 : \n",
    "def ajoute(indice, element, tab):\n",
    "    '''Renvoie un nouveau tableau obtenu en insérant\n",
    "    element à l'indice indice dans le tableau tab.'''\n",
    "    nbre_elts = len(tab)\n",
    "    tab_ins = [0] * (nbre_elts + 1)\n",
    "    for i in range(indice):\n",
    "        tab_ins[i] = tab[i]\n",
    "    tab_ins[i+1] = element\n",
    "    for i in range(indice + 1, nbre_elts + 1):\n",
    "        tab_ins[i] = tab[i-1]\n",
    "    return tab_ins\n",
    "\n",
    "ajoute(2, 4, [7, 8, 9])"
   ]
  },
  {
   "cell_type": "code",
   "execution_count": 56,
   "id": "ca2b811a",
   "metadata": {},
   "outputs": [
    {
     "data": {
      "text/plain": [
       "True"
      ]
     },
     "execution_count": 56,
     "metadata": {},
     "output_type": "execute_result"
    }
   ],
   "source": [
    "#ECE 18\n",
    "#EX 1 : \n",
    "def moyenne(tab): #Encore une fois c'est enfantin\n",
    "    s = 0\n",
    "    for i in tab:\n",
    "        s += i\n",
    "    return i/len(tab)\n",
    "#EX 2 : \n",
    "def dichotomie(tab, x):\n",
    "    \"\"\"applique une recherche dichotomique pour déterminer\n",
    "    si x est dans le tableau trié tab.\n",
    "    La fonction renvoie True si tab contient x et False sinon\"\"\"\n",
    "    debut = 0\n",
    "    fin = len(tab)\n",
    "    while debut <= fin:\n",
    "        m = (debut+fin)//2\n",
    "        if x == tab[m]:\n",
    "            return True\n",
    "        if x > tab[m]:\n",
    "            debut = m+1\n",
    "        else:\n",
    "            fin = m-1\n",
    "    return False\n",
    "\n",
    "dichotomie([15, 16, 18, 19, 23, 24, 28, 29, 31, 33], 28)"
   ]
  },
  {
   "cell_type": "code",
   "execution_count": 57,
   "id": "fcd832dd",
   "metadata": {},
   "outputs": [
    {
     "name": "stdout",
     "output_type": "stream",
     "text": [
      "2\n"
     ]
    },
    {
     "data": {
      "text/plain": [
       "[0, 0, 0, 0, 0, 0, 0, 0, 0, 0, 1, 1, 1, 1, 1, 1]"
      ]
     },
     "execution_count": 57,
     "metadata": {},
     "output_type": "execute_result"
    }
   ],
   "source": [
    "#ECE 19\n",
    "#EX 1 : \n",
    "def recherche_min(tab):\n",
    "    min = 0\n",
    "    for i in range(len(tab)):\n",
    "        if tab[i] < tab[min]:\n",
    "            min = i\n",
    "    return min\n",
    "\n",
    "print(recherche_min([5, 3, 2, 2, 4]))\n",
    "\n",
    "#EX 2 : \n",
    "def separe(tab):\n",
    "    '''Separe les 0 et les 1 dans le tableau tab'''\n",
    "    gauche = 0\n",
    "    droite = len(tab)-1\n",
    "    while gauche < droite:\n",
    "        if tab[gauche] == 0 :\n",
    "            gauche += 1\n",
    "        else :\n",
    "            tab[gauche] = 0\n",
    "            tab[droite] = 1\n",
    "            droite -= 1 \n",
    "    return tab\n",
    "\n",
    "separe([1, 0, 0, 0, 1, 1, 0, 1, 1, 0, 1, 0, 1, 1, 1, 0])\n"
   ]
  },
  {
   "cell_type": "code",
   "execution_count": 58,
   "id": "0a8fc87b",
   "metadata": {},
   "outputs": [
    {
     "name": "stdout",
     "output_type": "stream",
     "text": [
      "{'min': -2, 'max': 9}\n",
      "[<__main__.Carte object at 0x000002A3B3709FD0>, <__main__.Carte object at 0x000002A3B3E94910>, <__main__.Carte object at 0x000002A3B3E965D0>, <__main__.Carte object at 0x000002A3B3CF4770>, <__main__.Carte object at 0x000002A3B3CF4510>, <__main__.Carte object at 0x000002A3B3732B10>, <__main__.Carte object at 0x000002A3B3E78270>, <__main__.Carte object at 0x000002A3B3E78160>, <__main__.Carte object at 0x000002A3B3E72850>, <__main__.Carte object at 0x000002A3B3E72950>, <__main__.Carte object at 0x000002A3B3F309B0>, <__main__.Carte object at 0x000002A3B3F30E60>, <__main__.Carte object at 0x000002A3B3767850>, <__main__.Carte object at 0x000002A3B3E00830>, <__main__.Carte object at 0x000002A3B3F38460>, <__main__.Carte object at 0x000002A3B34B4AD0>, <__main__.Carte object at 0x000002A3B34B6750>, <__main__.Carte object at 0x000002A3B3F345D0>, <__main__.Carte object at 0x000002A3B3F34680>, <__main__.Carte object at 0x000002A3B3D28870>, <__main__.Carte object at 0x000002A3B3D28D70>, <__main__.Carte object at 0x000002A3B3D25D00>, <__main__.Carte object at 0x000002A3B3ED99D0>, <__main__.Carte object at 0x000002A3B3EDB8D0>, <__main__.Carte object at 0x000002A3B3F3E5F0>, <__main__.Carte object at 0x000002A3B3F3E190>, <__main__.Carte object at 0x000002A3B3F2FD10>, <__main__.Carte object at 0x000002A3B3F2FEF0>, <__main__.Carte object at 0x000002A3B3F2FAD0>, <__main__.Carte object at 0x000002A3B3F2FE90>, <__main__.Carte object at 0x000002A3B3F2FD70>, <__main__.Carte object at 0x000002A3B3F2F830>, <__main__.Carte object at 0x000002A3B3F2F9B0>, <__main__.Carte object at 0x000002A3B3F44050>, <__main__.Carte object at 0x000002A3B3F440B0>, <__main__.Carte object at 0x000002A3B3F44110>, <__main__.Carte object at 0x000002A3B3F44170>, <__main__.Carte object at 0x000002A3B3F441D0>, <__main__.Carte object at 0x000002A3B3F44230>, <__main__.Carte object at 0x000002A3B3F44290>, <__main__.Carte object at 0x000002A3B3F442F0>, <__main__.Carte object at 0x000002A3B3F44350>, <__main__.Carte object at 0x000002A3B3F443B0>, <__main__.Carte object at 0x000002A3B3F44410>, <__main__.Carte object at 0x000002A3B3F44470>, <__main__.Carte object at 0x000002A3B3F444D0>, <__main__.Carte object at 0x000002A3B3F44530>, <__main__.Carte object at 0x000002A3B3F44590>, <__main__.Carte object at 0x000002A3B3F445F0>, <__main__.Carte object at 0x000002A3B3F44650>, <__main__.Carte object at 0x000002A3B3F446B0>, <__main__.Carte object at 0x000002A3B3F44710>]\n",
      "As de pique\n"
     ]
    }
   ],
   "source": [
    "#ECE 20\n",
    "#EX 1 : \n",
    "def min_et_max(tab):\n",
    "    dico = {\"min\":tab[0],\"max\":tab[0]}\n",
    "    for i in tab:\n",
    "        if i < dico[\"min\"]:\n",
    "            dico[\"min\"] = i\n",
    "        if i > dico[\"max\"]:\n",
    "            dico[\"max\"] = i\n",
    "    return dico\n",
    "\n",
    "print(min_et_max([0, 1, 4, 2, -2, 9, 3, 1, 7, 1]))\n",
    "#EX 2 : \n",
    "class Carte:\n",
    "    def __init__(self, c, v):\n",
    "        \"\"\"Initialise les attributs couleur (entre 1 et 4),\n",
    "        et valeur (entre 1 et 13). \"\"\"\n",
    "        self.couleur = c\n",
    "        self.valeur = v\n",
    "\n",
    "    def recuperer_valeur(self):\n",
    "        \"\"\" Renvoie la valeur de la carte :\n",
    "        As, 2, ..., 10, Valet, Dame, Roi \"\"\"\n",
    "        valeurs = ['As','2', '3', '4', '5', '6', '7', '8','9', '10', 'Valet', 'Dame', 'Roi']\n",
    "        return valeurs[self.valeur - 1]\n",
    "\n",
    "    def recuperer_couleur(self):\n",
    "        \"\"\" Renvoie la couleur de la carte\n",
    "        (parmi pique, coeur, carreau, trèfle). \"\"\"\n",
    "        couleurs = ['pique', 'coeur', 'carreau', 'trèfle']\n",
    "        return couleurs[self.couleur - 1]\n",
    "\n",
    "class Paquet_de_cartes:\n",
    "    def __init__(self):\n",
    "        \"\"\" Initialise l'attribut contenu avec une liste des 52\n",
    "        objets Carte possibles rangés par valeurs croissantes en\n",
    "        commençant par pique, puis cœur, carreau et trèfle. \"\"\"\n",
    "        self.contenu = []\n",
    "        for i in range(1,5):\n",
    "            for j in range(1,14):\n",
    "                self.contenu.append(Carte(i,j))\n",
    "\n",
    "    def recuperer_carte(self, pos):\n",
    "        \"\"\" Renvoie la carte qui se trouve à la position pos\n",
    "        (entier compris entre 0 et 51). \"\"\"\n",
    "        assert 0<=pos<=51, \"le paramètre pos est incorrecte, pas compris entre 0 et 51\"\n",
    "        return self.contenu[pos]\n",
    "jeu = Paquet_de_cartes()\n",
    "print(jeu.contenu)\n",
    "carte1 = jeu.recuperer_carte(0)\n",
    "print(carte1.recuperer_valeur() + \" de \" + carte1.recuperer_couleur())"
   ]
  },
  {
   "cell_type": "code",
   "execution_count": 59,
   "id": "80de6fbc",
   "metadata": {},
   "outputs": [
    {
     "name": "stdout",
     "output_type": "stream",
     "text": [
      "(9, [3, 8])\n",
      "[5, 4, 3, 2, 1]\n",
      "[0, 5, 4, 10, 9]\n"
     ]
    }
   ],
   "source": [
    "#ECE 21\n",
    "#EX 1 : \n",
    "def indices_maxi(tab):\n",
    "    maxi = tab[0]\n",
    "    indice = []\n",
    "    for i in range(len(tab)):\n",
    "        if tab[i] > maxi:\n",
    "            maxi = tab[i]\n",
    "            indice = [i]\n",
    "        elif tab[i] == maxi:\n",
    "            indice.append(i)\n",
    "    return (maxi,indice)\n",
    "\n",
    "print(indices_maxi([1, 5, 6, 9, 1, 2, 3, 7, 9, 8]))\n",
    "#EX 2 : \n",
    "def renverse(pile):\n",
    "    '''renvoie une pile contenant les mêmes éléments que pile,\n",
    "    mais dans l'ordre inverse.\n",
    "    Cette fonction détruit pile.'''\n",
    "    pile_inverse = []\n",
    "    while pile != []:\n",
    "        pile_inverse.append(pile.pop())\n",
    "    return pile_inverse\n",
    "def positifs(pile):\n",
    "    '''renvoie une pile contenant les éléments positifs de pile,\n",
    "    dans le même ordre. Cette fonction détruit pile.'''\n",
    "    pile_positifs = []\n",
    "    while pile != []:\n",
    "        n = pile.pop()\n",
    "        if n >= 0:\n",
    "            pile_positifs.append(n)\n",
    "    return renverse(pile_positifs)\n",
    "\n",
    "print(renverse([1, 2, 3, 4, 5]))\n",
    "print(positifs([-1, 0, 5, -3, 4, -6, 10, 9, -8]))\n",
    "\n"
   ]
  },
  {
   "cell_type": "code",
   "execution_count": 60,
   "id": "b35dac82",
   "metadata": {},
   "outputs": [
    {
     "name": "stdout",
     "output_type": "stream",
     "text": [
      "5\n",
      "None\n",
      "[192, 168, 0, 1]\n",
      "False\n",
      "True\n"
     ]
    }
   ],
   "source": [
    "#ECE 22\n",
    "#EX 1 : \n",
    "def recherche(elt,tab):\n",
    "    ind = None\n",
    "    for i in range(len(tab)):\n",
    "        if tab[i] == elt:\n",
    "            ind = i\n",
    "    return ind\n",
    "\n",
    "print(recherche(1, [8, 1, 10, 1, 7, 1, 8]))\n",
    "print(recherche(2, [8, 1, 10, 1, 7, 1, 8]))\n",
    "\n",
    "#EX 2 : \n",
    "class AdresseIP:\n",
    "    def __init__(self, adresse):\n",
    "        self.adresse = adresse\n",
    "\n",
    "    def liste_octets(self):\n",
    "            \"\"\"renvoie une liste de nombres entiers,\n",
    "            la liste des octets de l'adresse IP\"\"\"\n",
    "            # Note : split découpe la chaine de caractères\n",
    "            # en fonction du séparateur\n",
    "            return [int(i) for i in self.adresse.split(\".\")]\n",
    "        \n",
    "    def est_reservee(self):\n",
    "            \"\"\"renvoie True si l'adresse IP est une adresse\n",
    "            réservée, False sinon\"\"\"\n",
    "            reservees = [  \"192.168.0.0\", \"192.168.0.255\" ]\n",
    "            return self.adresse in reservees\n",
    "        \n",
    "    def adresse_suivante(self):\n",
    "            \"\"\"renvoie un objet de AdresseIP avec l'adresse\n",
    "            IP qui suit l'adresse self si elle existe et None sinon\"\"\"\n",
    "            octets = self.liste_octets()\n",
    "            if octets[-1] == 254:\n",
    "                return None\n",
    "            octet_nouveau = octets[-1] + 1\n",
    "            return AdresseIP('192.168.0.' + octet_nouveau)\n",
    "    \n",
    "adresse1 = AdresseIP('192.168.0.1')\n",
    "adresse2 = AdresseIP('192.168.0.2')\n",
    "adresse3 = AdresseIP('192.168.0.0')\n",
    "print(adresse1.liste_octets())\n",
    "print(adresse1.est_reservee())\n",
    "print(adresse3.est_reservee())\n"
   ]
  },
  {
   "cell_type": "code",
   "execution_count": 61,
   "id": "cea6e7e0",
   "metadata": {},
   "outputs": [
    {
     "name": "stdout",
     "output_type": "stream",
     "text": [
      "[2, 0, 1, 0, 1, 4, 2, 1, 0, 5, 1]\n",
      "[0, 0, 2, 4, 5, 5, 5, 5, 6, 6, 7, 9, 9, 9, 9, 9, 10]\n",
      "11001\n",
      "42\n"
     ]
    }
   ],
   "source": [
    "#ECE 23\n",
    "#EX 1 : \n",
    "def effectif_notes(tab): #C compliqué pour rien, on va juste\n",
    "    eff = [0] * 11\n",
    "    for i in range(12):\n",
    "        for j in tab:\n",
    "            if i == j:\n",
    "                eff[i]+=1\n",
    "    return eff\n",
    "\n",
    "def notes_triees(tab):\n",
    "    tri = []\n",
    "    for i in range(len(tab)):\n",
    "        for j in range(tab[i]):\n",
    "            tri.append(i)\n",
    "    return tri\n",
    "\n",
    "eff = effectif_notes([2, 0, 5, 9, 6, 9, 10, 5, 7,9, 9, 5, 0, 9, 6, 5, 4])\n",
    "print(eff)\n",
    "print(notes_triees(eff))\n",
    "\n",
    "#EX 2 : \n",
    "def dec_to_bin(nb_dec):\n",
    "    q, r = nb_dec // 2, nb_dec % 2\n",
    "    if q == 0:\n",
    "        return str(r)\n",
    "    else:\n",
    "        return dec_to_bin(q) + str(r)\n",
    "\n",
    "def bin_to_dec(nb_bin):\n",
    "    if len(nb_bin) == 1:\n",
    "        if nb_bin == '0':\n",
    "            return 0\n",
    "        else:\n",
    "            return 1\n",
    "    else:\n",
    "        if nb_bin[-1] == '0':\n",
    "            bit_droit = 0\n",
    "        else:\n",
    "            bit_droit = 1\n",
    "        return 2 * bin_to_dec(nb_bin[:-1]) + bit_droit\n",
    "\n",
    "print(dec_to_bin(25))\n",
    "print(bin_to_dec('101010'))\n"
   ]
  },
  {
   "cell_type": "code",
   "execution_count": 62,
   "id": "1fbf368d",
   "metadata": {},
   "outputs": [
    {
     "name": "stdout",
     "output_type": "stream",
     "text": [
      "{1: [0, 1, 5], 2: [2, 4], 3: [3]}\n",
      "2\n"
     ]
    }
   ],
   "source": [
    "#ECE 24\n",
    "#EX 1 : \n",
    "def enumere(tab):\n",
    "    dico = {}\n",
    "    for i in range(len(tab)):\n",
    "        if tab[i] in dico:\n",
    "            dico[tab[i]].append(i)\n",
    "        else:\n",
    "            dico[tab[i]] = [i]\n",
    "    return dico\n",
    "\n",
    "print(enumere([1, 1, 2, 3, 2, 1]))\n",
    "\n",
    "#EX 2 : \n",
    "class Noeud:\n",
    "    \"\"\"Classe représentant un noeud d'un arbre binaire\"\"\"\n",
    "    def __init__(self, etiquette, gauche, droit):\n",
    "        \"\"\"Crée un noeud de valeur etiquette avecgauche et droit comme fils.\"\"\"\n",
    "        self.etiquette = etiquette\n",
    "        self.gauche = gauche\n",
    "        self.droit = droit\n",
    "\n",
    "def parcours(arbre, liste):\n",
    "        \"\"\"parcours récursivement l'arbre en ajoutant les étiquettes\n",
    "        de ses noeuds à la liste passée en argument en ordre infixe.\"\"\"\n",
    "        if arbre != None:\n",
    "            parcours(arbre.gauche, liste)            \n",
    "            liste.append(arbre.etiquette)\n",
    "            parcours(arbre.droit, liste)\n",
    "        return liste\n",
    "        \n",
    "def insere(arbre, cle):\n",
    "    \"\"\"insere la cle dans l'arbre binaire de recherche\n",
    "    représenté par arbre.\n",
    "    Retourne l'arbre modifié.\"\"\"\n",
    "    if arbre == None:\n",
    "        return Noeud(cle, None, None) # creation d'une feuille\n",
    "    else:\n",
    "        if cle < arbre.etiquette:\n",
    "            arbre.gauche = insere(arbre.gauche, cle)\n",
    "        else:\n",
    "            arbre.droit = insere(arbre.droit, cle)\n",
    "        return arbre\n",
    "\n",
    "Arbre = Noeud(5,None,None)\n",
    "print(insere(Arbre,2).gauche.etiquette)"
   ]
  },
  {
   "cell_type": "code",
   "execution_count": 63,
   "id": "8f1d946a",
   "metadata": {},
   "outputs": [
    {
     "name": "stdout",
     "output_type": "stream",
     "text": [
      "(12.5, 2016)\n",
      "cab\n",
      "False\n",
      "True\n"
     ]
    }
   ],
   "source": [
    "#ECE 25\n",
    "#EX 1 : \n",
    "t_moy = [14.9, 13.3, 13.1, 12.5, 13.0, 13.6, 13.7]\n",
    "annees = [2013, 2014, 2015, 2016, 2017, 2018, 2019]\n",
    "\n",
    "def annee_temperature_minimale(t_moy, annees):\n",
    "    min = 0\n",
    "    for i in range(len(t_moy)):\n",
    "        if t_moy[i] < t_moy[min]:\n",
    "            min = i\n",
    "    return (t_moy[min],annees[min])\n",
    "\n",
    "print(annee_temperature_minimale(t_moy, annees))\n",
    "#EX 2 : \n",
    "def inverse_chaine(chaine):\n",
    "    '''Retourne la chaine inversée'''\n",
    "    resultat = \"\"\n",
    "    for caractere in chaine:\n",
    "        resultat = caractere + resultat\n",
    "    return resultat\n",
    "\n",
    "def est_palindrome(chaine):\n",
    "    '''Renvoie un booléen indiquant si la chaine ch\n",
    "    est un palindrome'''\n",
    "    inverse = inverse_chaine(chaine)\n",
    "    return chaine == inverse\n",
    "\n",
    "def est_nbre_palindrome(nbre):\n",
    "    '''Renvoie un booléen indiquant si le nombre nbre\n",
    "    est un palindrome'''\n",
    "    chaine = str(nbre)\n",
    "    return est_palindrome(chaine)\n",
    "\n",
    "print(inverse_chaine(\"bac\"))\n",
    "print(est_nbre_palindrome(890))\n",
    "print(est_palindrome('ISN-NSI'))\n"
   ]
  },
  {
   "cell_type": "code",
   "execution_count": 64,
   "id": "7e4c054e",
   "metadata": {},
   "outputs": [
    {
     "name": "stdout",
     "output_type": "stream",
     "text": [
      "{1: 5, 2: 16, 3: 11}\n",
      "\u001b[31mLe truc des cases un peu bizarre, a revoir\u001b[39m\n"
     ]
    },
    {
     "data": {
      "text/plain": [
       "58"
      ]
     },
     "execution_count": 64,
     "metadata": {},
     "output_type": "execute_result"
    }
   ],
   "source": [
    "#ECE 26\n",
    "#EX 1 : \n",
    "def ajoute_dictionnaires(d1,d2): #Faut voir pour chaque dictionnaire si sa clé est dans le nouveau dictionnaire\n",
    "    d = d1\n",
    "    for i in d2.keys():\n",
    "        if i in d.keys():\n",
    "            d[i] += d2[i]\n",
    "        else:\n",
    "            d[i] = d2[i]\n",
    "    return d\n",
    "\n",
    "print(ajoute_dictionnaires({1: 5, 2: 7}, {2: 9, 3: 11}))\n",
    "#EX 2 : \n",
    "from random import randint\n",
    "\n",
    "def nombre_coups():\n",
    "    '''Simule un jeu de plateau avec 12 cases et renvoie le nombre\n",
    "    nécessaire de coups pour visiter toutes les cases.'''\n",
    "    nombre_cases = 12\n",
    "    # indique si une case a été vue\n",
    "    cases_vues = [ False ] * nombre_cases\n",
    "    nombre_cases_vues = 1\n",
    "    cases_vues[0] = True\n",
    "    case_en_cours = 0\n",
    "    n = 0\n",
    "    while nombre_cases_vues < nombre_cases:\n",
    "        x = randint(1, 6)\n",
    "        case_en_cours = (case_en_cours + x) % nombre_cases\n",
    "        if cases_vues[case_en_cours] ==  False:\n",
    "            cases_vues[case_en_cours] = True\n",
    "            nombre_cases_vues += 1\n",
    "        n += 1\n",
    "    return n\n",
    "\n",
    "print(f\"{Fore.RED}Le truc des cases un peu bizarre, a revoir{Fore.RESET}\")\n",
    "nombre_coups()"
   ]
  },
  {
   "cell_type": "code",
   "execution_count": 65,
   "id": "eee7e40e",
   "metadata": {},
   "outputs": [
    {
     "name": "stdout",
     "output_type": "stream",
     "text": [
      "True\n",
      "{'A': 2, 'B': 1}\n"
     ]
    },
    {
     "data": {
      "text/plain": [
       "['A']"
      ]
     },
     "execution_count": 65,
     "metadata": {},
     "output_type": "execute_result"
    }
   ],
   "source": [
    "#ECE 27\n",
    "#EX 1 : \n",
    "def verifie(tab): # Juste vérifier à chaque fois si un élément est plus grand que le suivant\n",
    "    i = 0\n",
    "    for i in range(1,len(tab)):\n",
    "        if tab[i-1] > tab[i]:\n",
    "            return False\n",
    "    return True\n",
    "\n",
    "print(verifie([8, 12, 40]))\n",
    "\n",
    "#EX 2 : \n",
    "\n",
    "def depouille(urne):\n",
    "    '''prend en paramètre une liste de suffrages et renvoie un\n",
    "    dictionnaire avec le nombre de voix pour chaque candidat'''\n",
    "    resultat = {}\n",
    "    for bulletin in urne:\n",
    "        if bulletin in resultat.keys():\n",
    "            resultat[bulletin] = resultat[bulletin] + 1\n",
    "        else:\n",
    "            resultat[bulletin] = 1\n",
    "    return resultat\n",
    "\n",
    "def vainqueurs(election):\n",
    "    '''prend en paramètre un dictionnaire non vide avec le nombre de voix \n",
    "    pour chaque candidat et renvoie la liste des vainqueurs'''\n",
    "    nmax = 0\n",
    "    for candidat in election:\n",
    "        if election[candidat] > nmax :\n",
    "            nmax = election[candidat]\n",
    "    liste_finale = [ nom for nom in election if election[nom] == nmax ]\n",
    "    return liste_finale\n",
    "\n",
    "print(depouille([ 'A', 'B', 'A' ]))\n",
    "vainqueurs(depouille([ 'A', 'B', 'A' ]))"
   ]
  },
  {
   "cell_type": "code",
   "execution_count": 66,
   "id": "ad75c349",
   "metadata": {},
   "outputs": [
    {
     "name": "stdout",
     "output_type": "stream",
     "text": [
      "True\n",
      "False\n"
     ]
    },
    {
     "data": {
      "text/plain": [
       "[[1, 1, 1, 0, 0],\n",
       " [1, -1, 1, 1, 1],\n",
       " [2, 2, 3, 2, -1],\n",
       " [1, -1, 2, -1, 3],\n",
       " [1, 1, 2, 2, -1]]"
      ]
     },
     "execution_count": 66,
     "metadata": {},
     "output_type": "execute_result"
    }
   ],
   "source": [
    "#ECE 28\n",
    "#EX 1 : \n",
    "def a_doublon(tab):\n",
    "    for i in range(1,len(tab)):\n",
    "        if tab[i-1] == tab[i]:\n",
    "            return True\n",
    "    return False\n",
    "\n",
    "print(a_doublon([2, 5, 7, 7, 7, 9]))\n",
    "print(a_doublon([0, 2, 3]))\n",
    "\n",
    "#EX 2 : \n",
    "def voisinage(n, ligne, colonne):\n",
    "    \"\"\" Renvoie la liste des coordonnées des voisins de la case\n",
    "    (ligne, colonne) dans un grille de taille n x n,\n",
    "    en tenant compte des cases sur les bords. \"\"\"\n",
    "    voisins = []\n",
    "    for dl in range(-1, 2):\n",
    "        for dc in range(-1, 2):\n",
    "            l = ligne + dl\n",
    "            c = colonne + dc\n",
    "            if (l, c) != (ligne, colonne) and 0 <= l < n and 0 <= c < n:\n",
    "                voisins.append((l,c))\n",
    "    return voisins\n",
    "\n",
    "def incremente_voisins(grille, ligne, colonne):\n",
    "    \"\"\" Incrémente de 1 toutes les cases voisines d'une bombe.\"\"\"\n",
    "    voisins = voisinage(len(grille),ligne,colonne)\n",
    "    for l, c in voisins:\n",
    "        if grille[l][c] != -1: # si ce n'est pas une bombe\n",
    "            grille[l][c] += 1 # on ajoute 1 à sa valeur\n",
    "\n",
    "def genere_grille(bombes):\n",
    "    \"\"\" Renvoie une grille de démineur de taille nxn où n est\n",
    "    le nombre de bombes, en plaçant les bombes à l'aide de\n",
    "    la liste bombes de coordonnées (tuples) passée en\n",
    "    paramètre. \"\"\"\n",
    "    n = len(bombes)\n",
    "    # Initialisation d'une grille nxn remplie de 0\n",
    "    grille = [[0 for colonne in range(n)] for ligne in range(n)]\n",
    "    # Place les bombes et calcule les valeurs des autres cases\n",
    "    for ligne, colonne in bombes:\n",
    "        grille[ligne][colonne] = -1 # place la bombe\n",
    "        incremente_voisins(grille,ligne,colonne) # incrémente ses voisins\n",
    "    return grille\n",
    "\n",
    "genere_grille([(1, 1), (2, 4), (3, 1), (3, 3), (4, 4)])"
   ]
  },
  {
   "cell_type": "code",
   "execution_count": 67,
   "id": "609abae4",
   "metadata": {},
   "outputs": [
    {
     "name": "stdout",
     "output_type": "stream",
     "text": [
      "[{'nom': 'Titine', 'espece': 'chat', 'age': 2, 'enclos': 5}, {'nom': 'Mirza', 'espece': 'chat', 'age': 6, 'enclos': 5}]\n"
     ]
    },
    {
     "data": {
      "text/plain": [
       "7"
      ]
     },
     "execution_count": 67,
     "metadata": {},
     "output_type": "execute_result"
    }
   ],
   "source": [
    "#ECE 29\n",
    "#EX 1 : \n",
    "def selection_enclos(tab,num):\n",
    "    l = []\n",
    "    for i in tab:\n",
    "        if i['enclos'] == num:\n",
    "            l.append(i)\n",
    "    return l\n",
    "\n",
    "animaux = [ {'nom':'Medor', 'espece':'chien', 'age':5, 'enclos':2},\n",
    "{'nom':'Titine', 'espece':'chat', 'age':2, 'enclos':5},\n",
    "{'nom':'Tom', 'espece':'chat', 'age':7, 'enclos':4},\n",
    "{'nom':'Belle', 'espece':'chien', 'age':6, 'enclos':3},\n",
    "{'nom':'Mirza', 'espece':'chat', 'age':6, 'enclos':5}]\n",
    "print(selection_enclos(animaux, 5))\n",
    "\n",
    "#EX 2 : \n",
    "\n",
    "def trouver_intrus(tab, g, d):\n",
    "    \"\"\"Renvoie la valeur de l'intrus situé entre les indices g et d dans le tableau tab où :\n",
    "    tab vérifie les conditions de l'exercice,\n",
    "    g et d sont des multiples de 3.\"\"\"\n",
    "    if g == d:\n",
    "        return tab[d]\n",
    "    else:\n",
    "        nombre_de_triplets = (d - g) // 3\n",
    "        indice = g + 3 * (nombre_de_triplets // 2)\n",
    "        if tab[indice] == tab[indice+1]:\n",
    "            return trouver_intrus(tab,indice+3,d)\n",
    "        else:\n",
    "            return trouver_intrus(tab,g,d-3)\n",
    "        \n",
    "trouver_intrus([3, 3, 3, 9, 9, 9, 1, 1, 1, 7,\n",
    "2, 2, 2, 4, 4, 4, 8, 8, 8], 0, 18)\n",
    "\n"
   ]
  },
  {
   "cell_type": "code",
   "execution_count": 88,
   "id": "c4a64a08",
   "metadata": {},
   "outputs": [
    {
     "name": "stdout",
     "output_type": "stream",
     "text": [
      "[1000, -200, 2, 198, 3]\n",
      "\u001b[31m PARCOURS INFIXE CHELOU A APPR\u001b[39m\n"
     ]
    },
    {
     "data": {
      "text/plain": [
       "'((3*(8+7))-(2+1))'"
      ]
     },
     "execution_count": 88,
     "metadata": {},
     "output_type": "execute_result"
    }
   ],
   "source": [
    "#ECE 30\n",
    "#EX 1 : \n",
    "def delta(tab):\n",
    "    ntab = [tab[0]]\n",
    "    for i in range(1,len(tab)):\n",
    "        ntab.append(tab[i] - tab[i-1])\n",
    "    return ntab\n",
    "\n",
    "print(delta([1000, 800, 802, 1000, 1003]))\n",
    "#EX 2 : \n",
    "class Expr:\n",
    "    \"\"\"Classe implémentant un arbre d'expression.\"\"\"\n",
    "\n",
    "    def __init__(self, g, v, d):\n",
    "        \"\"\"un objet Expr possède 3 attributs :\n",
    "        - gauche : la sous-expression gauche ;\n",
    "        - valeur : la valeur de l'étiquette, opérateur ou nombre ;\n",
    "        - droite : la sous-expression droite.\"\"\"\n",
    "        self.gauche = g\n",
    "        self.valeur = v\n",
    "        self.droite = d\n",
    "\n",
    "    def est_une_feuille(self):\n",
    "        \"\"\"renvoie True si et seulement\n",
    "        si le noeud est une feuille\"\"\"\n",
    "        return self.gauche is None and self.droite is None\n",
    "\n",
    "    def infixe(self):\n",
    "        \"\"\"renvoie la représentation infixe de l'expression en\n",
    "        chaine de caractères\"\"\"\n",
    "        s = \"\"\n",
    "        if self.gauche is not None:\n",
    "            s = '(' + self.gauche.infixe()\n",
    "        s = s + str(self.valeur)\n",
    "        if self.droite is not None:\n",
    "            s = s + self.droite.infixe() + \")\"\n",
    "        return s\n",
    "\n",
    "e = Expr(\n",
    "Expr(Expr(None, 3, None), '*', Expr(Expr(None, 8, None),\n",
    "'+', Expr(None, 7, None))),\n",
    "'-', Expr(Expr(None, 2, None), '+', Expr(None, 1, None)))\n",
    "\n",
    "print(f\"{Fore.RED} PARCOURS INFIXE CHELOU A APPR{Fore.RESET}\")\n",
    "e.infixe()\n"
   ]
  },
  {
   "cell_type": "code",
   "execution_count": 91,
   "id": "a8932aa2",
   "metadata": {},
   "outputs": [
    {
     "name": "stdout",
     "output_type": "stream",
     "text": [
      "[0, 7, 11]\n"
     ]
    },
    {
     "data": {
      "text/plain": [
       "[0, 1, 3, 2]"
      ]
     },
     "execution_count": 91,
     "metadata": {},
     "output_type": "execute_result"
    }
   ],
   "source": [
    "#ECE 31\n",
    "#EX 1 : \n",
    "def recherche_motif(motif,ch): #Technique celle la, je saurais pas vrm expliquer\n",
    "    L = []\n",
    "    n = len(motif)\n",
    "    for i in range(len(ch)-n+1):\n",
    "        if ch[i:i+n] == motif:\n",
    "            L.append(i)\n",
    "    return L\n",
    "\n",
    "print(recherche_motif(\"ab\", \"abracadabraab\"))\n",
    "#EX 2 : \n",
    "def parcours(adj, x, acc):\n",
    "    '''Réalise un parcours en profondeur récursif\n",
    "    du graphe donné par les listes d'adjacence adj\n",
    "    depuis le sommet x en accumulant les sommets\n",
    "    rencontrés dans acc'''\n",
    "    if x not in acc:\n",
    "        acc.append(x)\n",
    "        for y in adj[x]:\n",
    "            parcours(adj, y, acc)\n",
    "\n",
    "def accessibles(adj, x):\n",
    "    '''Renvoie la liste des sommets accessibles dans le\n",
    "    graphe donné par les listes d'adjacence adj depuis\n",
    "    le sommet x.'''\n",
    "    acc = []\n",
    "    parcours(adj, x, acc)\n",
    "    return acc\n",
    "\n",
    "accessibles([[1, 2], [0, 3], [0], [1], [5], [4]], 0)\n",
    "\n"
   ]
  },
  {
   "cell_type": "code",
   "execution_count": null,
   "id": "f6a8a7ee",
   "metadata": {},
   "outputs": [
    {
     "name": "stdout",
     "output_type": "stream",
     "text": [
      "4\n"
     ]
    },
    {
     "data": {
      "text/plain": [
       "[100, 100, 50, 20, 20, 1]"
      ]
     },
     "execution_count": 95,
     "metadata": {},
     "output_type": "execute_result"
    }
   ],
   "source": [
    "#ECE 32\n",
    "#EX 1 : \n",
    "def occurrences(char,ch):\n",
    "    s = 0\n",
    "    for i in ch:\n",
    "        if char == i:\n",
    "            s+=1\n",
    "    return s\n",
    "\n",
    "print(occurrences('i',\"mississippi\"))\n",
    "#EX 2 : \n",
    "valeurs = [100, 50, 20, 10, 5, 2, 1]\n",
    "\n",
    "def rendu_glouton(a_rendre, rang):\n",
    "    if a_rendre == 0:\n",
    "        return []\n",
    "    v = valeurs[rang]\n",
    "    if v <= a_rendre:\n",
    "        return [v] + rendu_glouton(a_rendre - v, rang)\n",
    "    else:\n",
    "        return rendu_glouton(a_rendre, rang+1)\n",
    "\n",
    "rendu_glouton(291, 0)"
   ]
  },
  {
   "cell_type": "code",
   "execution_count": 104,
   "id": "821b8082",
   "metadata": {},
   "outputs": [
    {
     "name": "stdout",
     "output_type": "stream",
     "text": [
      "((None, 0, None), 1, (None, 2, (None, 3, (None, 4, None))))\n",
      "\u001b[31m INSERTION DANS LES ABR A APPR AUSSI \n",
      " TT EST HARR WSH JE VAIS PLEURER \u001b[39m\n"
     ]
    },
    {
     "data": {
      "text/plain": [
       "5"
      ]
     },
     "execution_count": 104,
     "metadata": {},
     "output_type": "execute_result"
    }
   ],
   "source": [
    "#ECE 33\n",
    "#EX 1 : \n",
    "def insertion_abr(a,cle):\n",
    "    if a is None:\n",
    "        return (None, cle, None)\n",
    "    else:\n",
    "        if cle == a[1]:\n",
    "            return a\n",
    "        elif cle < a[1]:\n",
    "            return (insertion_abr(a[0], cle), a[1], a[2])\n",
    "        else:\n",
    "            return (a[0], a[1], insertion_abr(a[2], cle))\n",
    "\n",
    "\n",
    "n0 = (None, 0, None)\n",
    "n3 = (None, 3, None)\n",
    "n2 = (None, 2, n3)\n",
    "abr1 = (n0, 1, n2)\n",
    "\n",
    "print(insertion_abr(abr1, 4))\n",
    "\n",
    "#EX 2 : \n",
    "def empaqueter(liste_masses, c):\n",
    "    \"\"\"Renvoie le nombre minimal de boîtes nécessaires pour\n",
    "    empaqueter les objets de la liste liste_masses, sachant\n",
    "    que chaque boîte peut contenir au maximum c kilogrammes\"\"\"\n",
    "    n = len(liste_masses)\n",
    "    nb_boites = 0\n",
    "    boites = [ 0 for _ in range(n) ]\n",
    "    for masse in liste_masses:\n",
    "        i = 0\n",
    "        while i < nb_boites and boites[i] + masse > c:\n",
    "            i = i + 1\n",
    "        if i == nb_boites:\n",
    "            nb_boites += 1\n",
    "        boites[i] += masse\n",
    "    return nb_boites\n",
    "\n",
    "print(f\"{Fore.RED} INSERTION DANS LES ABR A APPR AUSSI \\n TT EST HARR WSH JE VAIS PLEURER {Fore.RESET}\")\n",
    "empaqueter([7, 6, 3, 4, 8, 5, 9, 2], 11)"
   ]
  },
  {
   "cell_type": "code",
   "execution_count": 113,
   "id": "79916d58",
   "metadata": {},
   "outputs": [
    {
     "name": "stdout",
     "output_type": "stream",
     "text": [
      "[-9, 1, 6, 12, 52]\n",
      "\u001b[31mLES TRIS PAR COEUR\u001b[39m\n",
      "Bravo ! Le nombre était  44\n",
      "Nombre d'essais:  4\n"
     ]
    }
   ],
   "source": [
    "#ECE 34\n",
    "#EX 1 : \n",
    "def tri_selection(T):\n",
    "    n = len(T)\n",
    "    for i in range(0,n-1):\n",
    "        min = i\n",
    "        for j in range(i+1,n):\n",
    "            if T[j] < T[min]:\n",
    "                min = j\n",
    "        if i != min:\n",
    "            T[min],T[i] = T[i], T[min]\n",
    "    return T\n",
    "\n",
    "print(tri_selection([1, 52, 6, -9, 12]))\n",
    "\n",
    "#EX 2 : \n",
    "from random import randint\n",
    "\n",
    "def plus_ou_moins():\n",
    "    nb_mystere = randint(1, 99)\n",
    "    nb_test = int(input(\"Proposez un nombre entre 1 et 99 : \"))\n",
    "    compteur = 0\n",
    "    while nb_mystere != nb_test and compteur < 11:\n",
    "        compteur = compteur + 1\n",
    "        if nb_mystere > nb_test:\n",
    "            nb_test = int(input(\"Trop petit ! Testez encore : \"))\n",
    "        else:\n",
    "            nb_test = int(input(\"Trop grand ! Testez encore : \"))\n",
    "    if nb_mystere == nb_test:\n",
    "        print (\"Bravo ! Le nombre était \", nb_test)\n",
    "        print(\"Nombre d'essais: \", compteur)\n",
    "    else:\n",
    "        print (\"Perdu ! Le nombre était \", nb_test)\n",
    "\n",
    "print(f\"{Fore.RED}LES TRIS PAR COEUR{Fore.RESET}\")\n",
    "plus_ou_moins()"
   ]
  },
  {
   "cell_type": "code",
   "execution_count": 115,
   "id": "4852185a",
   "metadata": {},
   "outputs": [
    {
     "name": "stdout",
     "output_type": "stream",
     "text": [
      "('Ada', 201)\n"
     ]
    },
    {
     "data": {
      "text/plain": [
       "25"
      ]
     },
     "execution_count": 115,
     "metadata": {},
     "output_type": "execute_result"
    }
   ],
   "source": [
    "#ECE 35\n",
    "#EX 1 : \n",
    "def max_dico(dico):\n",
    "    max = (0,0)\n",
    "    for i,j in dico.items():\n",
    "        if j > max[1]:\n",
    "            max = (i,j)\n",
    "    return max\n",
    "\n",
    "print(max_dico({ 'Bob': 102, 'Ada': 201, 'Alice': 103, 'Tim': 50 }))\n",
    "#EX 2 : \n",
    "\n",
    "class Pile:\n",
    "    \"\"\"Classe définissant une structure de pile.\"\"\"\n",
    "    def __init__(self):\n",
    "        self.contenu = []\n",
    "\n",
    "    def est_vide(self):\n",
    "        \"\"\"Renvoie un booléen indiquant si la pile est vide.\"\"\"\n",
    "        return self.contenu == []\n",
    "    \n",
    "    def empiler(self, v):\n",
    "        \"\"\"Place l'élément v au sommet de la pile\"\"\"\n",
    "        self.contenu.append(v)\n",
    "\n",
    "    def depiler(self):\n",
    "        \"\"\" Retire et renvoie l'élément placé au sommet de la pile,\n",
    "        si la pile n’est pas vide. Produit une erreur sinon.\n",
    "        \"\"\"\n",
    "        assert not self.est_vide()\n",
    "        return self.contenu.pop()\n",
    "\n",
    "def eval_expression(tab):\n",
    "    p = Pile()\n",
    "    for element in tab:\n",
    "        if element != '+' and element != '*':\n",
    "            p.empiler(element)\n",
    "        else:\n",
    "            if element == '+':\n",
    "                resultat = p.depiler() + p.depiler()\n",
    "            else:\n",
    "                resultat = p.depiler()*p.depiler()\n",
    "            p.empiler(resultat)\n",
    "    return resultat\n",
    "\n",
    "eval_expression([2, 3, '+', 5, '*'])"
   ]
  },
  {
   "cell_type": "code",
   "execution_count": 118,
   "id": "252a12d1",
   "metadata": {},
   "outputs": [
    {
     "name": "stdout",
     "output_type": "stream",
     "text": [
      "6\n",
      "3\n",
      "9\n",
      "1\n",
      "6\n"
     ]
    }
   ],
   "source": [
    "#ECE 36\n",
    "#EX 1 : \n",
    "def nombre_de_mots(ch):\n",
    "    cp = 0\n",
    "    for i in ch:\n",
    "        if i == \" \":\n",
    "            cp += 1\n",
    "    if ch[-1] == '?' or ch[-1] == '!':\n",
    "        return cp\n",
    "    return cp +1\n",
    "\n",
    "print(nombre_de_mots('Le point d exclamation est séparé !'))\n",
    "#EX 2 : \n",
    "class Noeud:\n",
    "    def __init__(self, etiquette):\n",
    "        '''Méthode constructeur pour la classe Noeud.\n",
    "        Crée une feuille d'étiquette donnée.'''\n",
    "        self.etiquette = etiquette\n",
    "        self.gauche = None\n",
    "        self.droit = None\n",
    "\n",
    "    def inserer(self, cle):\n",
    "        '''Insère la clé dans l'arbre binaire de recherche\n",
    "        en préservant sa structure.'''\n",
    "        if cle < self.etiquette:\n",
    "            if self.gauche != None:\n",
    "                self.gauche.inserer(cle)\n",
    "            else:\n",
    "                self.gauche = Noeud(cle)\n",
    "        else:\n",
    "            if self.droit != None:\n",
    "                self.droit.inserer(cle)\n",
    "            else:\n",
    "                self.droit = Noeud(cle)\n",
    "\n",
    "arbre = Noeud(7)\n",
    "for cle in (3, 9, 1, 6):\n",
    "    arbre.inserer(cle)\n",
    "print(arbre.gauche.etiquette)\n",
    "print(arbre.droit.etiquette)\n",
    "print(arbre.gauche.gauche.etiquette)\n",
    "print(arbre.gauche.droit.etiquette)\n",
    "\n"
   ]
  },
  {
   "cell_type": "code",
   "execution_count": 2,
   "id": "0a496c01",
   "metadata": {},
   "outputs": [
    {
     "name": "stdout",
     "output_type": "stream",
     "text": [
      "130\n"
     ]
    },
    {
     "data": {
      "text/plain": [
       "[9, 12, 23, 98, 104, 131]"
      ]
     },
     "execution_count": 2,
     "metadata": {},
     "output_type": "execute_result"
    }
   ],
   "source": [
    "#ECE 37\n",
    "#EX 1 : \n",
    "def gb_vers_entier(T):\n",
    "    n = 0\n",
    "    T = T[::-1]\n",
    "    for i in range(len(T)):\n",
    "        if T[i]:\n",
    "            n += 2**i\n",
    "    return n\n",
    "\n",
    "print(gb_vers_entier([True, False, False, False,\n",
    "False, False, True, False]))\n",
    "#EX 2 : \n",
    "def tri_insertion(tab):\n",
    "    '''Trie le tableau tab par ordre croissant\n",
    "    en appliquant l'algorithme de tri par insertion'''\n",
    "    n = len(tab)\n",
    "    for i in range(1, n):\n",
    "        valeur_insertion = tab[i]\n",
    "        # la variable j sert à déterminer\n",
    "        # où placer la valeur à ranger\n",
    "        j = i\n",
    "        # tant qu'on n'a pas trouvé la place de l'élément à\n",
    "        # insérer on décale les valeurs du tableau vers la droite\n",
    "        while j > 0 and valeur_insertion < tab[j-1]:\n",
    "            tab[j] = tab[j-1]\n",
    "            j -= 1\n",
    "        tab[j] = valeur_insertion\n",
    "\n",
    "tab = [98, 12, 104, 23, 131, 9]\n",
    "tri_insertion(tab)\n",
    "tab\n"
   ]
  },
  {
   "cell_type": "code",
   "execution_count": null,
   "id": "7be4cf16",
   "metadata": {},
   "outputs": [
    {
     "name": "stdout",
     "output_type": "stream",
     "text": [
      "2.3333333333333335\n"
     ]
    },
    {
     "data": {
      "text/plain": [
       "'1111111'"
      ]
     },
     "execution_count": 11,
     "metadata": {},
     "output_type": "execute_result"
    }
   ],
   "source": [
    "#ECE 38\n",
    "#EX 1 : \n",
    "def moyenne(tab):\n",
    "    s = 0\n",
    "    for i in tab:\n",
    "        s += i\n",
    "    return s/len(tab)\n",
    "\n",
    "print(moyenne([1.0, 2.0, 4.0]))\n",
    "#EX 2 : \n",
    "def binaire(a):\n",
    "    '''convertit un nombre entier a en sa representation\n",
    "    binaire sous forme de chaine de caractères.'''\n",
    "    if a == 0:\n",
    "        return '0'\n",
    "    bin_a = \"\"\n",
    "    while a != 0 :\n",
    "        bin_a = str(a%2) + bin_a\n",
    "        a = a//2\n",
    "    return bin_a\n",
    "\n",
    "print(\"BINAIRE A REVOIR\")\n",
    "binaire(127)"
   ]
  },
  {
   "cell_type": "code",
   "execution_count": null,
   "id": "00be0c18",
   "metadata": {},
   "outputs": [
    {
     "name": "stdout",
     "output_type": "stream",
     "text": [
      "None\n"
     ]
    },
    {
     "data": {
      "text/plain": [
       "[0, 0, 0, 0, 0, 1, 1, 1, 1]"
      ]
     },
     "execution_count": 16,
     "metadata": {},
     "output_type": "execute_result"
    }
   ],
   "source": [
    "#ECE 39\n",
    "#EX 1 : \n",
    "def moyenne(tab):\n",
    "    if tab == []:\n",
    "        return None\n",
    "    s = 0\n",
    "    for i in tab:\n",
    "        s += i\n",
    "    return s/len(tab)\n",
    "\n",
    "print(moyenne([]))\n",
    "#EX 2 : \n",
    "def tri(tab):\n",
    "    '''tab est un tableau d'entiers contenant des 0 et des 1.\n",
    "    La fonction trie ce tableau en plaçant tous les 0 à gauche'''\n",
    "    i = 0 # premier indice de la zone non triée\n",
    "    j = len(tab)-1 # dernier indice de la zone non triée\n",
    "    while i < j:\n",
    "        if tab[i] == 0:\n",
    "            i += 1\n",
    "        else:\n",
    "            valeur = tab[j]\n",
    "            tab[j] = tab[i]\n",
    "            tab[i] = valeur\n",
    "            j -= 1\n",
    "\n",
    "tab = [0,1,0,1,0,1,0,1,0]\n",
    "tri(tab)\n",
    "tab"
   ]
  },
  {
   "cell_type": "code",
   "execution_count": null,
   "id": "4cc281c4",
   "metadata": {},
   "outputs": [
    {
     "name": "stdout",
     "output_type": "stream",
     "text": [
      "([0, 3, 7], [1, 6], [2, 4, 5])\n"
     ]
    },
    {
     "data": {
      "text/plain": [
       "14.5"
      ]
     },
     "execution_count": 19,
     "metadata": {},
     "output_type": "execute_result"
    }
   ],
   "source": [
    "#ECE 40\n",
    "#EX 1 : \n",
    "def recherche_indices_classement(elt,tab):\n",
    "    l1,l2,l3 = [],[],[]\n",
    "    for i in range(len(tab)):\n",
    "        if tab[i] < elt:\n",
    "            l1.append(i)\n",
    "        elif tab[i] == elt:\n",
    "            l2.append(i)\n",
    "        else:\n",
    "            l3.append(i)\n",
    "    return (l1,l2,l3)\n",
    "\n",
    "print(recherche_indices_classement(3, [1, 3, 4, 2, 4, 6, 3, 0]))\n",
    "#EX 2 : \n",
    "def moyenne(nom, resultats):\n",
    "    '''Renvoie la moyenne de l'élève nom, selon le dictionnaire\n",
    "    resultats. Si nom n'est pas dans le dictionnaire,\n",
    "    la fonction renvoie None.'''\n",
    "    if nom in resultats.keys():\n",
    "        notes = resultats[nom]\n",
    "        if notes == {}: # pas de notes\n",
    "            return 0\n",
    "        total_points = 0\n",
    "        total_coefficients = 0\n",
    "        for valeurs in notes.values():\n",
    "            note, coefficient = valeurs\n",
    "            total_points = total_points + note * coefficient\n",
    "            total_coefficients += coefficient\n",
    "        return round( total_points / total_coefficients, 1 )\n",
    "    else:\n",
    "        return None\n",
    "\n",
    "resultats = {'Dupont': {\n",
    "'DS1': [15.5, 4],\n",
    "'DM1': [14.5, 1],\n",
    "'DS2': [13, 4],\n",
    "'PROJET1': [16, 3],\n",
    "'DS3': [14, 4]\n",
    "},'Durand': {\n",
    "'DS1': [6 , 4],\n",
    "'DS2': [8, 4],\n",
    "'PROJET1': [9, 3],\n",
    "'IE1': [7, 2],\n",
    "'DS3': [12, 4]\n",
    "}}\n",
    "\n",
    "moyenne(\"Dupont\", resultats)"
   ]
  },
  {
   "cell_type": "code",
   "execution_count": 22,
   "id": "67da4d70",
   "metadata": {},
   "outputs": [
    {
     "name": "stdout",
     "output_type": "stream",
     "text": [
      "[1, 1, 0, 1, 1, 0, 0, 1]\n"
     ]
    },
    {
     "data": {
      "text/plain": [
       "True"
      ]
     },
     "execution_count": 22,
     "metadata": {},
     "output_type": "execute_result"
    }
   ],
   "source": [
    "#ECE 41\n",
    "#EX 1 : \n",
    "def ou_exclusif(T1,T2):\n",
    "    T = []\n",
    "    for i in range(len(T1)):\n",
    "        if T1[i] == T2[i]:\n",
    "            T.append(0)\n",
    "        else:\n",
    "            T.append(1)\n",
    "    return T\n",
    "\n",
    "print(ou_exclusif([1, 0, 1, 0, 1, 1, 0, 1], [0, 1, 1, 1, 0, 1, 0, 0]))        \n",
    "#EX 2 : \n",
    "class Carre:\n",
    "    def __init__(self, liste, n):\n",
    "        self.ordre = n\n",
    "        self.tableau = [[liste[i + j * n] for i in range(n)] for j in range(n)]\n",
    "\n",
    "    def affiche(self):\n",
    "        '''Affiche un carré'''\n",
    "        for i in range(self.ordre):\n",
    "            print(self.tableau[i])\n",
    "\n",
    "    def somme_ligne(self, i):\n",
    "        '''Calcule la somme des valeurs de la ligne i'''\n",
    "        somme = 0\n",
    "        for j in range(self.ordre):\n",
    "            somme = somme + self.tableau[i][j]\n",
    "        return somme\n",
    "\n",
    "    def somme_col(self, j):\n",
    "        '''Calcule la somme des valeurs de la colonne j'''\n",
    "        somme = 0\n",
    "        for i in range(self.ordre):\n",
    "            somme = somme + self.tableau[i][j]\n",
    "        return somme\n",
    "\n",
    "    def est_semimagique(self):\n",
    "        s = self.somme_ligne(0)\n",
    "        #test de la somme de chaque ligne\n",
    "        for i in range(self.ordre):\n",
    "            if self.somme_ligne(i) != s:\n",
    "                return False\n",
    "        #test de la somme de chaque colonne\n",
    "        for j in range(self.ordre):\n",
    "            if self.somme_col(j) != s:\n",
    "                return False\n",
    "        return True\n",
    "lst_c3 = [3, 4, 5, 4, 4, 4, 5, 4, 3]\n",
    "c3 = Carre(lst_c3, 3)\n",
    "c3.est_semimagique()\n"
   ]
  },
  {
   "cell_type": "code",
   "execution_count": 24,
   "id": "ffe58477",
   "metadata": {},
   "outputs": [
    {
     "name": "stdout",
     "output_type": "stream",
     "text": [
      "2\n"
     ]
    },
    {
     "data": {
      "text/plain": [
       "'1001101'"
      ]
     },
     "execution_count": 24,
     "metadata": {},
     "output_type": "execute_result"
    }
   ],
   "source": [
    "#ECE 42\n",
    "#EX 1 : \n",
    "def nb_repetitions(elt,tab):\n",
    "    s = 0\n",
    "    for i in tab:\n",
    "        if i == elt:\n",
    "            s += 1\n",
    "    return s\n",
    "\n",
    "print(nb_repetitions('A', ['B', 'A', 'B', 'A', 'R']))\n",
    "#EX 2 : \n",
    "def binaire(a):\n",
    "    '''convertit un nombre entier a en sa representation\n",
    "    binaire sous forme de chaine de caractères.'''\n",
    "    if a == 0:\n",
    "        return '0'\n",
    "    bin_a = \"\"\n",
    "    while a > 0:\n",
    "        bin_a = str(a%2) + bin_a\n",
    "        a = a//2\n",
    "    return bin_a\n",
    "\n",
    "binaire(77)"
   ]
  },
  {
   "cell_type": "code",
   "execution_count": 27,
   "id": "ffb8062f",
   "metadata": {},
   "outputs": [
    {
     "name": "stdout",
     "output_type": "stream",
     "text": [
      "[(1, 2), (2, 3), (-5, -4)]\n"
     ]
    },
    {
     "data": {
      "text/plain": [
       "[[0, 0, 1, 0], [0, 3, 0, 1], [3, 3, 3, 0], [0, 3, 3, 0]]"
      ]
     },
     "execution_count": 27,
     "metadata": {},
     "output_type": "execute_result"
    }
   ],
   "source": [
    "#ECE 43\n",
    "#EX 1 : \n",
    "def couples_consecutifs(T):\n",
    "    L = []\n",
    "    for i in range(len(T)-1):\n",
    "        if T[i] == T[i+1]-1:\n",
    "            L.append((T[i],T[i+1]))\n",
    "    return L\n",
    "\n",
    "print(couples_consecutifs([5, 1, 2, 3, 8, -5, -4, 7]))\n",
    "#EX 2 : \n",
    "def colore_comp1(M, i, j, val):\n",
    "    if M[i][j] != 1:\n",
    "        return\n",
    "    M[i][j] = val\n",
    "    if i-1 >= 0: # propage en haut\n",
    "        colore_comp1(M, i-1, j, val)\n",
    "    if i+1 < len(M): # propage en bas\n",
    "        colore_comp1(M, i+1, j, val)\n",
    "    if j-1 >= 0: # propage à gauche\n",
    "        colore_comp1(M, i, j-1, val)\n",
    "    if j+1: # propage à droite\n",
    "        colore_comp1(M, i, j+1, val)\n",
    "\n",
    "M = [[0, 0, 1, 0], [0, 1, 0, 1], [1, 1, 1, 0], [0, 1, 1, 0]]\n",
    "colore_comp1(M, 2, 1, 3)\n",
    "M"
   ]
  },
  {
   "cell_type": "code",
   "execution_count": 35,
   "id": "2142c44a",
   "metadata": {},
   "outputs": [
    {
     "name": "stdout",
     "output_type": "stream",
     "text": [
      "9.142857142857142\n",
      "   **   **   \n",
      "  *  * *  *  \n",
      " *    *    * \n",
      " *         * \n",
      " *         * \n",
      "  *       *  \n",
      "   *     *   \n",
      "    *   *    \n",
      "     * *     \n",
      "      *      \n",
      "      ****      ****      \n",
      "      ****      ****      \n",
      "    **    **  **    **    \n",
      "    **    **  **    **    \n",
      "  **        **        **  \n",
      "  **        **        **  \n",
      "  **                  **  \n",
      "  **                  **  \n",
      "  **                  **  \n",
      "  **                  **  \n",
      "    **              **    \n",
      "    **              **    \n",
      "      **          **      \n",
      "      **          **      \n",
      "        **      **        \n",
      "        **      **        \n",
      "          **  **          \n",
      "          **  **          \n",
      "            **            \n",
      "            **            \n"
     ]
    }
   ],
   "source": [
    "#ECE 44\n",
    "#EX 1 : \n",
    "def moyenne(tab):\n",
    "    s = 0\n",
    "    c = 0\n",
    "    for i in tab:\n",
    "        s += i[0]*i[1]\n",
    "        c += i[1]\n",
    "    if c == 0:\n",
    "        return None\n",
    "    else:\n",
    "        return s/c\n",
    "\n",
    "print(moyenne([(8, 2), (12, 0), (13.5, 1), (5, 0.5)]))\n",
    "#EX 2 : \n",
    "\n",
    "def affiche(dessin):\n",
    "    ''' affichage d'une grille : les 1 sont représentés par\n",
    "    un \"*\" , les 0 par une espace \" \" '''\n",
    "    for ligne in dessin:\n",
    "        affichage = ''\n",
    "        for col in ligne:\n",
    "            if col == 1:\n",
    "                affichage = affichage + \"*\"\n",
    "            else:\n",
    "                affichage = affichage + \" \"\n",
    "        print(affichage)\n",
    "\n",
    "def liste_zoom(liste_depart,k):\n",
    "    '''renvoie une liste contenant k fois chaque élément de\n",
    "    liste_depart'''\n",
    "    liste_zoomee = []\n",
    "    for elt in liste_depart:\n",
    "        for i in range(k):\n",
    "            liste_zoomee.append(elt)\n",
    "    return liste_zoomee\n",
    "\n",
    "def dessin_zoom(grille,k):\n",
    "    '''renvoie une grille où les lignes sont zoomées k fois\n",
    "    ET répétées k fois'''\n",
    "    grille_zoomee=[]\n",
    "    for ligne in grille:\n",
    "        ligne_zoomee = liste_zoom(ligne,k)\n",
    "        for i in range(k):\n",
    "            grille_zoomee.append(ligne_zoomee)\n",
    "    return grille_zoomee\n",
    "\n",
    "coeur = [[0, 0, 0, 1, 1, 0, 0, 0, 1, 1, 0, 0, 0],\n",
    "[0, 0, 1, 0, 0, 1, 0, 1, 0, 0, 1, 0, 0],\n",
    "[0, 1, 0, 0, 0, 0, 1, 0, 0, 0, 0, 1, 0],\n",
    "[0, 1, 0, 0, 0, 0, 0, 0, 0, 0, 0, 1, 0],\n",
    "[0, 1, 0, 0, 0, 0, 0, 0, 0, 0, 0, 1, 0],\n",
    "[0, 0, 1, 0, 0, 0, 0, 0, 0, 0, 1, 0, 0],\n",
    "[0, 0, 0, 1, 0, 0, 0, 0, 0, 1, 0, 0, 0],\n",
    "[0, 0, 0, 0, 1, 0, 0, 0, 1, 0, 0, 0, 0],\n",
    "[0, 0, 0, 0, 0, 1, 0, 1, 0, 0, 0, 0, 0],\n",
    "[0, 0, 0, 0, 0, 0, 1, 0, 0, 0, 0, 0, 0]]\n",
    "affiche(coeur)\n",
    "liste_zoom([1,2,3],3)\n",
    "affiche(dessin_zoom(coeur,2))"
   ]
  },
  {
   "cell_type": "code",
   "execution_count": null,
   "id": "6af277b7",
   "metadata": {},
   "outputs": [
    {
     "name": "stdout",
     "output_type": "stream",
     "text": [
      "True\n",
      "False\n"
     ]
    },
    {
     "data": {
      "text/plain": [
       "False"
      ]
     },
     "execution_count": 39,
     "metadata": {},
     "output_type": "execute_result"
    }
   ],
   "source": [
    "#ECE 45\n",
    "#EX 1 : \n",
    "def correspond(mot,trou):\n",
    "    if len(mot) != len(trou):\n",
    "        return False\n",
    "    for i in range(len(mot)):\n",
    "        if trou[i] != \"*\" and trou[i]!=mot[i]:\n",
    "            return False\n",
    "    return True\n",
    "\n",
    "print(correspond('INFORMATIQUE', 'INFO*MA*IQUE'))\n",
    "print(correspond('AUFORMATIQUE', 'INFO*MA*IQUE'))\n",
    "#EX 2 : \n",
    "def est_cyclique(plan):\n",
    "    '''Prend en paramètre un dictionnaire `plan` correspondant à\n",
    "    un plan d'envoi de messages (ici entre les personnes A, B, C,\n",
    "    D, E, F).\n",
    "    Renvoie True si le plan d'envoi de messages est cyclique et\n",
    "    False sinon.'''\n",
    "    expediteur = 'A'\n",
    "    destinataire = plan[expediteur]\n",
    "    nb_destinataires = 1\n",
    "    while destinataire != expediteur:\n",
    "        destinataire = plan[destinataire]\n",
    "        nb_destinataires += 1\n",
    "    return nb_destinataires == len(plan)\n",
    "\n",
    "est_cyclique({'A':'E','F':'C','C':'D','E':'B','B':'F','D':'A'})"
   ]
  },
  {
   "cell_type": "code",
   "execution_count": 43,
   "id": "ab707674",
   "metadata": {},
   "outputs": [
    {
     "name": "stdout",
     "output_type": "stream",
     "text": [
      "1\n"
     ]
    },
    {
     "data": {
      "text/plain": [
       "[200, 100, 50, 20, 20, 5, 2, 1]"
      ]
     },
     "execution_count": 43,
     "metadata": {},
     "output_type": "execute_result"
    }
   ],
   "source": [
    "#ECE 46\n",
    "#EX 1 : \n",
    "def compte_occurrences(e,T):\n",
    "    s = 0\n",
    "    for i in T:\n",
    "        if i == e:\n",
    "            s +=1\n",
    "    return s\n",
    "\n",
    "print(compte_occurrences(5, [-2, 3, 1, 5, 3, 7, 4]))\n",
    "#EX 2 : \n",
    "pieces = [1, 2, 5, 10, 20, 50, 100, 200]\n",
    "def rendu_monnaie(somme_due, somme_versee):\n",
    "    '''Renvoie la liste des pièces à rendre pour rendre la monnaie\n",
    "    lorsqu'on doit rendre somme_versee - somme_due'''\n",
    "    rendu = []\n",
    "    a_rendre = somme_versee - somme_due\n",
    "    i = len(pieces) - 1\n",
    "    while a_rendre > 0:\n",
    "        while pieces[i] > a_rendre:\n",
    "            i = i - 1\n",
    "        rendu.append(pieces[i])\n",
    "        a_rendre -= pieces[i]\n",
    "    return rendu\n",
    "\n",
    "rendu_monnaie(102, 500)"
   ]
  },
  {
   "cell_type": "code",
   "execution_count": null,
   "id": "cc644a99",
   "metadata": {},
   "outputs": [
    {
     "name": "stdout",
     "output_type": "stream",
     "text": [
      "9\n"
     ]
    },
    {
     "data": {
      "text/plain": [
       "[6, 12, 18, 21, 25, 41, 55]"
      ]
     },
     "execution_count": 51,
     "metadata": {},
     "output_type": "execute_result"
    }
   ],
   "source": [
    "#ECE 47\n",
    "#EX 1 : \n",
    "a = {'F':['B','G'], 'B':['A','D'], 'A':['',''], 'D':['C','E'], \\\n",
    "'C':['',''], 'E':['',''], 'G':['','I'], 'I':['','H'], \\\n",
    "'H':['','']}\n",
    "def taille(a, sommet): #C'est du cours\n",
    "    if sommet == \"\":\n",
    "        return 0\n",
    "    else:\n",
    "        return 1 + taille(a,a[sommet][0]) + taille(a,a[sommet][1])\n",
    "\n",
    "print(taille(a,\"F\"))\n",
    "#EX 2 : \n",
    "def echange(tab, i, j):\n",
    "    '''Echange les éléments d'indice i et j dans le tableau tab.'''\n",
    "    temp = tab[i]\n",
    "    tab[i] = tab[j]\n",
    "    tab[j] = temp\n",
    "\n",
    "def tri_selection(tab):\n",
    "    '''Trie le tableau tab dans l'ordre croissant\n",
    "    par la méthode du tri par sélection.'''\n",
    "    N = len(tab)\n",
    "    for k in range(N-1):\n",
    "        imin = k\n",
    "        for i in range(k+1, N):\n",
    "            if tab[i] < tab[imin]:\n",
    "                imin = i\n",
    "        echange(tab, k, imin)\n",
    "\n",
    "tab = [41, 55, 21, 18, 12, 6, 25]\n",
    "tri_selection(tab)\n",
    "tab"
   ]
  },
  {
   "cell_type": "code",
   "execution_count": null,
   "id": "8eecb9d2",
   "metadata": {},
   "outputs": [
    {
     "name": "stdout",
     "output_type": "stream",
     "text": [
      "3\n",
      "25\n"
     ]
    },
    {
     "data": {
      "text/plain": [
       "(2, 5)"
      ]
     },
     "execution_count": 55,
     "metadata": {},
     "output_type": "execute_result"
    }
   ],
   "source": [
    "#ECE 48\n",
    "#EX 1 : \n",
    "def recherche(T,v): #C'est trivial\n",
    "    ind = None\n",
    "    for i in range(len(T)):\n",
    "        if T[i] == v:\n",
    "            ind = i\n",
    "    return ind\n",
    "\n",
    "print(recherche([2,3,5,2,4],2))\n",
    "#EX 2 : \n",
    "def distance_carre(point1, point2):\n",
    "    \"\"\" Calcule et renvoie la distance au carre entre\n",
    "    deux points.\"\"\"\n",
    "    return (point1[0]-point2[0])**2 + (point2[1]-point1[1])**2\n",
    "\n",
    "def point_le_plus_proche(depart, tab):\n",
    "    \"\"\" Renvoie les coordonnées du premier point du tableau tab se\n",
    "    trouvant à la plus courte distance du point depart.\"\"\"\n",
    "    min_point = tab[0]\n",
    "    min_dist = distance_carre(depart,min_point)\n",
    "    for i in range(1, len(tab)):\n",
    "        if distance_carre(tab[i], depart) < min_dist:\n",
    "            min_point = tab[i]\n",
    "            min_dist = distance_carre(depart,min_point)\n",
    "    return min_point\n",
    "\n",
    "print(distance_carre((1, 0), (5, 3)))\n",
    "point_le_plus_proche((0, 0), [(7, 9), (2, 5), (5, 2)])"
   ]
  }
 ],
 "metadata": {
  "kernelspec": {
   "display_name": "Python 3",
   "language": "python",
   "name": "python3"
  },
  "language_info": {
   "codemirror_mode": {
    "name": "ipython",
    "version": 3
   },
   "file_extension": ".py",
   "mimetype": "text/x-python",
   "name": "python",
   "nbconvert_exporter": "python",
   "pygments_lexer": "ipython3",
   "version": "3.13.0"
  }
 },
 "nbformat": 4,
 "nbformat_minor": 5
}
