{
 "cells": [
  {
   "cell_type": "code",
   "execution_count": null,
   "id": "a742f06d",
   "metadata": {},
   "outputs": [
    {
     "name": "stdout",
     "output_type": "stream",
     "text": [
      "[2, 3]\n"
     ]
    },
    {
     "data": {
      "text/plain": [
       "'111221'"
      ]
     },
     "execution_count": 83,
     "metadata": {},
     "output_type": "execute_result"
    }
   ],
   "source": [
    "from colorama import Fore\n",
    "#ECE 1\n",
    "#EX1 :\n",
    "def voisins_entrants(adj,x): #Faut regarder pour chaque noeud si y'en a un qui va vers x\n",
    "    liste_entrants = []\n",
    "    for i in range(len(adj)):\n",
    "        if x in adj[i]:\n",
    "            liste_entrants.append(i)\n",
    "    return liste_entrants\n",
    "\n",
    "print(voisins_entrants([[1, 2], [2], [0], [0]], 0))\n",
    "\n",
    "#EX 2 :\n",
    "def nombre_suivant(s):\n",
    "    '''Renvoie le nombre suivant de celui representé par s\n",
    "    en appliquant le procédé de lecture.'''\n",
    "    resultat = ''\n",
    "    chiffre = s[0]\n",
    "    compte = 1\n",
    "    for i in range(1,len(s)):\n",
    "        if s[i] == chiffre:\n",
    "            compte += 1\n",
    "        else:\n",
    "            resultat += str(compte) + chiffre\n",
    "            chiffre = s[i]\n",
    "            compte = 1\n",
    "    lecture_chiffre = str(compte) + chiffre\n",
    "    resultat += lecture_chiffre\n",
    "    return resultat\n",
    "\n",
    "nombre_suivant('1211')\n"
   ]
  },
  {
   "cell_type": "code",
   "execution_count": null,
   "id": "ef08c6dc",
   "metadata": {},
   "outputs": [
    {
     "name": "stdout",
     "output_type": "stream",
     "text": [
      "(9, 3)\n",
      "False\n",
      "4\n"
     ]
    }
   ],
   "source": [
    "#ECE 2\n",
    "#EX 1 : \n",
    "def max_et_indice(tab): #ça c vrm facile faut pas abuser\n",
    "    max = tab[0]\n",
    "    ind = 0\n",
    "    for i in range(len(tab)):\n",
    "        if tab[i] > max:\n",
    "            max = tab[i]\n",
    "            ind = i\n",
    "    return (max,ind)\n",
    "\n",
    "print(max_et_indice([1, 5, 6, 9, 1, 2, 3, 7, 9, 8]))\n",
    "\n",
    "#EX 2 : \n",
    "def est_un_ordre(tab):\n",
    "    '''\n",
    "    Renvoie True si tab est de longueur n et contient tous les\n",
    "    entiers de 1 à n, False sinon\n",
    "    '''\n",
    "    n = len(tab)\n",
    "    # les entiers vus lors du parcours\n",
    "    vus = []\n",
    "    for x in tab:\n",
    "        if x < 1 or x >n or x in vus:\n",
    "            return False\n",
    "    vus.append(x)\n",
    "    return True\n",
    "\n",
    "def nombre_points_rupture(ordre):\n",
    "    '''\n",
    "    Renvoie le nombre de point de rupture de ordre qui représente\n",
    "    un ordre de gènes de chromosome\n",
    "    '''\n",
    "    # on vérifie que ordre est un ordre de gènes\n",
    "    assert est_un_ordre(ordre)\n",
    "    n = len(ordre)\n",
    "    nb = 0\n",
    "    if ordre[0] != 1: # le premier n'est pas 1\n",
    "        nb = nb + 1\n",
    "    i = 0\n",
    "    while i < n-1:\n",
    "        if ordre[i] - ordre[i+1] not in [-1, 1]: # l'écart n'est pas 1\n",
    "            nb = nb + 1\n",
    "        i = i + 1\n",
    "    if ordre[i] != n:\n",
    "        nb += 1\n",
    "    return nb\n",
    "\n",
    "print(est_un_ordre([1, 6, 2, 8, 3, 7]))\n",
    "print(nombre_points_rupture([5, 4, 3, 6, 7, 2, 1, 8, 9]))\n",
    "\n"
   ]
  },
  {
   "cell_type": "code",
   "execution_count": null,
   "id": "f9719790",
   "metadata": {},
   "outputs": [
    {
     "name": "stdout",
     "output_type": "stream",
     "text": [
      "75025\n",
      "(80, ['c', 'f', 'h'])\n"
     ]
    }
   ],
   "source": [
    "# ECE 3\n",
    "#EX 1 :\n",
    "def fibonnaci(n): #cours, recursivement c le plus simple (mais après faudra savoir expliquer)\n",
    "    if n <= 2:\n",
    "        return 1\n",
    "    else:\n",
    "        return fibonnaci(n-1) + fibonnaci(n-2)\n",
    "    \n",
    "print(fibonnaci(25))\n",
    "\n",
    "#EX 2 :\n",
    "def eleves_du_mois(eleves, notes):\n",
    "    note_maxi = 0\n",
    "    meilleurs_eleves = eleves[0]\n",
    "    for i in range(len(eleves)):\n",
    "        if notes[i] == note_maxi:\n",
    "            meilleurs_eleves.append(eleves[i])\n",
    "        elif notes[i] > note_maxi:\n",
    "            note_maxi = notes[i]\n",
    "            meilleurs_eleves = [eleves[i]]\n",
    "    return (note_maxi, meilleurs_eleves)\n",
    "\n",
    "eleves_nsi = ['a','b','c','d','e','f','g','h','i','j']\n",
    "notes_nsi = [30, 40, 80, 60, 58, 80, 75, 80, 60, 24]\n",
    "print(eleves_du_mois(eleves_nsi, notes_nsi))\n"
   ]
  },
  {
   "cell_type": "code",
   "execution_count": null,
   "id": "946ac747",
   "metadata": {},
   "outputs": [
    {
     "name": "stdout",
     "output_type": "stream",
     "text": [
      "1101001\n",
      "[1, 2, 3, 3, 6, 7, 9]\n"
     ]
    }
   ],
   "source": [
    "# ECE 4\n",
    "# EX 1 : \n",
    "def ecriture_binaire_entier_positif(n): #technique un peu, faut faire avec des divisions succéessives par 2, jusqu'à ce qu'on ait 1\n",
    "    bin = \"\"\n",
    "    while n > 0:\n",
    "        bin = str(n%2) + bin\n",
    "        n = n//2\n",
    "    return bin\n",
    "\n",
    "print(ecriture_binaire_entier_positif(105))\n",
    "\n",
    "#EX 2 :\n",
    "def echange(tab, i, j):\n",
    "    '''Echange les éléments d'indice i et j dans le tableau tab.'''\n",
    "    temp = tab[i]\n",
    "    tab[i] = tab[j]\n",
    "    tab[j] = temp\n",
    "\n",
    "def tri_bulles(tab):\n",
    "    '''Trie le tableau tab dans l'ordre croissant\n",
    "    par la méthode du tri à bulles.'''\n",
    "    n = len(tab)\n",
    "    for i in range(n-1,-1,-1):\n",
    "        for j in range(i):\n",
    "            if tab[j] > tab[j+1]:\n",
    "                echange(tab, j, j+1)\n",
    "\n",
    "tab2 = [9, 3, 7, 2, 3, 1, 6]\n",
    "tri_bulles(tab2)\n",
    "print(tab2)\n",
    "\n",
    "\n"
   ]
  },
  {
   "cell_type": "code",
   "execution_count": null,
   "id": "852b39a9",
   "metadata": {},
   "outputs": [
    {
     "name": "stdout",
     "output_type": "stream",
     "text": [
      "okik\n",
      "[2, 3, 5, 7, 11, 13, 17, 19, 23, 29, 31, 37]\n"
     ]
    }
   ],
   "source": [
    "#ECE 5\n",
    "#EX 1 : \n",
    "def renverse(mot): #Si vous connaissiez pas ça vs etes cooked sah\n",
    "    return mot[::-1]\n",
    "\n",
    "print(renverse(\"kiko\"))\n",
    "#EX 2 : \n",
    "\n",
    "def crible(n):\n",
    "    \"\"\"Renvoie un tableau contenant tous les nombres premiers\n",
    "    plus petits que n.\"\"\"\n",
    "    premiers = []\n",
    "    tab = [True] * n\n",
    "    tab[0], tab[1] = False, False\n",
    "    for i in range(n):\n",
    "        if tab[i]:\n",
    "            premiers.append(i)\n",
    "            multiple = i*2\n",
    "            while multiple < n:\n",
    "                tab[multiple] = False\n",
    "                multiple += i\n",
    "    return premiers\n",
    "\n",
    "print(crible(40))"
   ]
  },
  {
   "cell_type": "code",
   "execution_count": null,
   "id": "df5a90df",
   "metadata": {},
   "outputs": [
    {
     "name": "stdout",
     "output_type": "stream",
     "text": [
      "(37, 1121914, True)\n",
      "(50, 1612112, False)\n"
     ]
    }
   ],
   "source": [
    "#ECE 6\n",
    "#EX 1 : \n",
    "def listes_puissances(a,borne): #mettre un nombre puissance n c'est le multiplier n fois par lui même, simple\n",
    "    liste_puis = [a]\n",
    "    nb = a\n",
    "    while nb*a < borne:\n",
    "        nb = nb*a\n",
    "        liste_puis.append(nb)\n",
    "    return liste_puis\n",
    "\n",
    "print(listes_puissances(2,16))\n",
    "\n",
    "#EX 2 : \n",
    "dico = {\"A\": 1, \"B\": 2, \"C\": 3, \"D\": 4, \"E\": 5, \"F\": 6,\n",
    "\"G\": 7, \"H\": 8, \"I\": 9, \"J\": 10, \"K\": 11, \"L\": 12,\n",
    "\"M\": 13, \"N\": 14, \"O\": 15, \"P\": 16, \"Q\": 17,\n",
    "\"R\": 18, \"S\": 19, \"T\": 20, \"U\": 21, \"V\": 22,\n",
    "\"W\": 23, \"X\": 24, \"Y\": 25, \"Z\": 26}\n",
    "\n",
    "def codes_parfait(mot):\n",
    "    \"\"\"Renvoie un triplet\n",
    "    (code_additionne, code_concatene, mot_est_parfait) où :\n",
    "    - code_additionne est la somme des codes des lettres du mot ;\n",
    "    - code_concatene est le code des lettres du mot concaténées ;\n",
    "    - mot_est_parfait est un booléen indiquant si le mot est\n",
    "    ↪ parfait.\"\"\"\n",
    "    code_concatene = \"\"\n",
    "    code_additionne = 0\n",
    "    for c in mot:\n",
    "        code_concatene = code_concatene + str(dico[c])\n",
    "        code_additionne = code_additionne + int(dico[c])\n",
    "    code_concatene = int(code_concatene)\n",
    "    mot_est_parfait = code_concatene%code_additionne == 0\n",
    "    return code_additionne, code_concatene, mot_est_parfait\n",
    "\n",
    "print(codes_parfait(\"ALAIN\"))\n",
    "print(codes_parfait(\"PAUL\"))"
   ]
  },
  {
   "cell_type": "code",
   "execution_count": null,
   "id": "3dc8b0b7",
   "metadata": {},
   "outputs": [
    {
     "name": "stdout",
     "output_type": "stream",
     "text": [
      "{'c': 2, 'o': 2, 'u': 2, 's': 2, ' ': 1, 'm': 2, 'a': 2, 'd': 1, 'e': 1}\n",
      "[0, 1, 6, 7, 8, 9, 10]\n",
      "\u001b[31mLA 2 EST INCOMPREHENSIBLE\u001b[39m\n"
     ]
    }
   ],
   "source": [
    "#ECE 7\n",
    "#EX 1 : \n",
    "def nbr_occurences(chaine): #ça aussi c vrm basique, faut juste comprendre le dico.keys() (ça permet de voir toutes les clés d'un dico)\n",
    "    dico = {}\n",
    "    for i in chaine:\n",
    "        if i in dico.keys():\n",
    "            dico[i] += 1\n",
    "        else:\n",
    "            dico[i] = 1\n",
    "    return dico\n",
    "\n",
    "print(nbr_occurences(\"couscous madame\"))\n",
    "\n",
    "#EX 2 : \n",
    "def fusion(tab1,tab2):\n",
    "    '''Fusionne deux tableaux triés et renvoie\n",
    "    le nouveau tableau trié.'''\n",
    "    n1 = len(tab1)\n",
    "    n2 = len(tab2)\n",
    "    tab12 = [0] * (n1 + n2)\n",
    "    i1 = 0\n",
    "    i2 = 0\n",
    "    i = 0\n",
    "    while i1 < n1 and i2 < n2:\n",
    "        if tab1[i1] < tab2[i2]:\n",
    "            tab12[i] = tab1[i1]\n",
    "            i1 += 1\n",
    "        else:\n",
    "            tab12[i] = tab2[i2]\n",
    "            i2 += 1\n",
    "        i += 1\n",
    "    while i1 < n1:\n",
    "        tab12[i] = tab1[i1]\n",
    "        i1 = i1 + 1\n",
    "        i += 1\n",
    "    while i2 < n2:\n",
    "        tab12[i] = tab2[i2]\n",
    "        i2 = i2 + 1\n",
    "        i += 1\n",
    "    return tab12\n",
    "\n",
    "print(fusion([1, 6, 10],[0, 7, 8, 9]))\n",
    "\n",
    "print(f\"{Fore.RED}LA 2 EST INCOMPREHENSIBLE{Fore.RESET}\")"
   ]
  },
  {
   "cell_type": "code",
   "execution_count": null,
   "id": "a61a7519",
   "metadata": {},
   "outputs": [
    {
     "name": "stdout",
     "output_type": "stream",
     "text": [
      "24\n",
      "True\n",
      "False\n"
     ]
    }
   ],
   "source": [
    "#ECE 8\n",
    "#EX 1 : \n",
    "def maximum_tableau(tab): # Pareil, niveau SNT franchement\n",
    "    max = tab[0]\n",
    "    for i in tab:\n",
    "        if i >max:\n",
    "            max = i\n",
    "    return max\n",
    "\n",
    "print(maximum_tableau([-27, 24, -3, 15]))\n",
    "\n",
    "#EX 2 : \n",
    "\n",
    "class Pile:\n",
    "    \"\"\"Classe définissant une structure de pile.\"\"\"\n",
    "    def __init__(self):\n",
    "        self.contenu = []\n",
    "    def est_vide(self):\n",
    "        \"\"\"Renvoie un booléen indiquant si la pile est vide.\"\"\"\n",
    "        return self.contenu == []\n",
    "    def empiler(self, v):\n",
    "        \"\"\"Place l'élément v au sommet de la pile\"\"\"\n",
    "        self.contenu.append(v)\n",
    "    def depiler(self):\n",
    "        \"\"\"\n",
    "        Retire et renvoie l'élément placé au sommet de la pile,\n",
    "        si la pile n’est pas vide. Produit une erreur sinon.\n",
    "        \"\"\"\n",
    "        assert not self.est_vide()\n",
    "        return self.contenu.pop()\n",
    "    \n",
    "def bon_parenthesage(ch):\n",
    "    \"\"\"Renvoie un booléen indiquant si la chaîne ch\n",
    "    est bien parenthésée\"\"\"\n",
    "    p = Pile()\n",
    "    for c in ch:\n",
    "        if c == \"(\":\n",
    "            p.empiler(c)\n",
    "        elif c == \")\":\n",
    "            if p.est_vide():\n",
    "                return False\n",
    "            else:\n",
    "                p.depiler()\n",
    "    return p.est_vide()\n",
    "\n",
    "print(bon_parenthesage(\"((()())(()))\"))\n",
    "print(bon_parenthesage(\"())(()\"))\n"
   ]
  },
  {
   "cell_type": "code",
   "execution_count": null,
   "id": "074a79cf",
   "metadata": {},
   "outputs": [
    {
     "name": "stdout",
     "output_type": "stream",
     "text": [
      "15\n",
      "True\n"
     ]
    }
   ],
   "source": [
    "#ECE 9\n",
    "#EX 1 : \n",
    "def multiplication(a,b): #multiplier un nombre par n, c'est l'additioner n fois avec lui même, pareil que pour les puissances mais avec un +\n",
    "    nb = 0\n",
    "    if b > 0: #Juste la faut faire attention car on peut multiplier par un nombre négatif\n",
    "        for i in range(b):\n",
    "            nb += a\n",
    "    else:\n",
    "        for i in range(-b):\n",
    "            nb -= a\n",
    "    return nb\n",
    "\n",
    "print(multiplication(3,5))\n",
    "#EX 2 : \n",
    "\n",
    "def dichotomie(tab, x):\n",
    "    \"\"\"\n",
    "    tab : tableau d'entiers trié dans l'ordre croissant\n",
    "    x : nombre entier\n",
    "    La fonction renvoie True si tab contient x et False sinon\n",
    "    \"\"\"\n",
    "    debut = 0\n",
    "    fin = len(tab) - 1\n",
    "    while debut <= fin:\n",
    "        m = (debut+fin)//2\n",
    "        if x == tab[m]:\n",
    "            return True\n",
    "        if x > tab[m]:\n",
    "            debut = m + 1\n",
    "        else:\n",
    "            fin = m-1\n",
    "    return False\n",
    "\n",
    "print(dichotomie([15, 16, 18, 19, 23, 24, 28, 29, 31, 33],28))"
   ]
  },
  {
   "cell_type": "code",
   "execution_count": null,
   "id": "d667e0d0",
   "metadata": {},
   "outputs": [
    {
     "name": "stdout",
     "output_type": "stream",
     "text": [
      "3\n",
      "FSRNSYV E XSYW. ZMZI PE QEXMIVI RWM !\n"
     ]
    }
   ],
   "source": [
    "#ECE 10\n",
    "#EX 1 : \n",
    "def recherche(tab,n): #dichotomie c du cours, a savoir par coeur\n",
    "    debut = 0\n",
    "    fin = len(tab)\n",
    "    while debut<=fin:\n",
    "        m = (debut+fin)//2\n",
    "        if tab[m] == n:\n",
    "            return m\n",
    "        elif tab[m] < n:\n",
    "            debut = m+1\n",
    "        else:\n",
    "            fin  =m-1\n",
    "    return None\n",
    "\n",
    "print(recherche([2, 3, 4, 5, 6], 5))\n",
    "\n",
    "#EX 2 : \n",
    "alphabet = 'ABCDEFGHIJKLMNOPQRSTUVWXYZ'\n",
    "\n",
    "def position_alphabet(lettre):\n",
    "    '''Renvoie la position de la lettre dans l'alphabet'''\n",
    "    return ord(lettre) - ord('A')\n",
    "\n",
    "def cesar(message, decalage):\n",
    "    '''Renvoie le message codé par la méthode de César\n",
    "    pour le decalage donné'''\n",
    "    resultat = ''\n",
    "    for c in message:\n",
    "        if 'A' <= c and c <= 'Z':\n",
    "            indice = (position_alphabet(c)+decalage) % 26\n",
    "            resultat = resultat + alphabet[indice]\n",
    "        else:\n",
    "            resultat = resultat + c\n",
    "    return resultat\n",
    "\n",
    "print(cesar('BONJOUR A TOUS. VIVE LA MATIERE NSI !', 4))\n"
   ]
  },
  {
   "cell_type": "code",
   "execution_count": null,
   "id": "0865e1d8",
   "metadata": {},
   "outputs": [
    {
     "name": "stdout",
     "output_type": "stream",
     "text": [
      "[4, 2, 6, 1, 3, 5, 7]\n",
      "15\n",
      "18\n",
      "\u001b[31mPARCOURS D ARBRES A APPR PAR COEUR \n",
      " MEME LEURS SOMMES SONT HARR FRR\u001b[39m \n"
     ]
    }
   ],
   "source": [
    "#ECE 11\n",
    "#EX 1 : \n",
    "class File():\n",
    "    def __init__(self):\n",
    "        self.data = []\n",
    "    def enfiler(self,elt):\n",
    "        self.data.append(elt)\n",
    "    def defiler(self):\n",
    "        return self.data.pop(0)\n",
    "    def est_vide(self):\n",
    "        return self.data == []\n",
    "    \n",
    "def parcours_largeur(arbre): #ça aussi a savoir par coeur, c trop tard pr comprendre\n",
    "    parc = []\n",
    "    f = File()\n",
    "    f.enfiler(arbre)\n",
    "    while not f.est_vide():\n",
    "        s = f.defiler()\n",
    "        parc.append(s[1])\n",
    "        if s[0] != None:\n",
    "            f.enfiler(s[0])\n",
    "        if s[2] != None:\n",
    "            f.enfiler(s[2])\n",
    "    return parc\n",
    "\n",
    "arbre = ( ( (None, 1, None), 2, (None, 3, None) ),4,( (None, 5, None), 6, (None, 7, None) ) )\n",
    "print(parcours_largeur(arbre)) \n",
    "#EX 2 : \n",
    "\n",
    "def somme_max(tab):\n",
    "    n = len(tab)\n",
    "    sommes_max = [0]*n\n",
    "    sommes_max[0] = tab[0]\n",
    "    # on calcule la plus grande somme se terminant en i\n",
    "    for i in range(1,n):\n",
    "        if sommes_max[i-1] + tab[i] > tab[i]:\n",
    "            sommes_max[i] = sommes_max[i-1] + tab[i]\n",
    "        else:\n",
    "            sommes_max[i] = tab[i]\n",
    "    # on en déduit la plus grande somme de celles-ci\n",
    "    maximum = 0\n",
    "    for i in range(1, n):\n",
    "        if sommes_max[i] > sommes_max[maximum]:\n",
    "            maximum = i\n",
    "    return sommes_max[maximum]\n",
    "\n",
    "print(somme_max([1, 2, 3, 4, 5]))\n",
    "print(somme_max([1, -2, 3, 10, -4, 7, 2, -5]))\n",
    "\n",
    "\n",
    "print(f'{Fore.RED}PARCOURS D ARBRES A APPR PAR COEUR \\n MEME LEURS SOMMES SONT HARR FRR{Fore.RESET} ')"
   ]
  },
  {
   "cell_type": "code",
   "execution_count": null,
   "id": "f109b47e",
   "metadata": {},
   "outputs": [
    {
     "name": "stdout",
     "output_type": "stream",
     "text": [
      "[-3, -2, 4, 5, 10]\n",
      "2024\n",
      "14\n",
      "\u001b[31mTRI FUSION AUSSI A SAVOIR PR COEUR, plus romain un peu chaud\u001b[39m \n"
     ]
    }
   ],
   "source": [
    "#ECE 12\n",
    "#EX 1 : \n",
    "def fusion(A,B): #Encore une fois du par coeur, révisez bien vos cours hein\n",
    "    if A == []:\n",
    "        return B\n",
    "    if B == []:\n",
    "        return A\n",
    "    if A[0] <= B[0]:\n",
    "        return [A[0]] + fusion(A[1:],B)\n",
    "    else:\n",
    "        return [B[0]] + fusion(A,B[1:])\n",
    "    \n",
    "print(fusion([-2, 4], [-3, 5, 10]))\n",
    "\n",
    "#EX 2 : \n",
    "romains = {\"I\":1, \"V\":5, \"X\":10, \"L\":50, \"C\":100, \"D\":500,\"M\":1000}\n",
    "\n",
    "def traduire_romain(nombre):\n",
    "    \"\"\" Renvoie l'écriture décimale du nombre donné en chiffres\n",
    "    romains \"\"\"\n",
    "    if len(nombre) == 1:\n",
    "        return romains[nombre]\n",
    "    elif romains[nombre[0]] >= romains[nombre[1]]:\n",
    "        return romains[nombre[0]] + traduire_romain(nombre[1:])\n",
    "    else:\n",
    "        return traduire_romain(nombre[1:]) - romains[nombre[0]] \n",
    "    \n",
    "print(traduire_romain(\"MMXXIV\"))\n",
    "print( traduire_romain(\"XIV\"))\n",
    "\n",
    "print(f'{Fore.RED}TRI FUSION AUSSI A SAVOIR PR COEUR, plus romain un peu chaud{Fore.RESET} ')"
   ]
  },
  {
   "cell_type": "code",
   "execution_count": 4,
   "id": "2b4e59aa",
   "metadata": {},
   "outputs": [
    {
     "name": "stdout",
     "output_type": "stream",
     "text": [
      "2\n",
      "[1, 2, 7, 12, 14, 25, 30]\n",
      "[1, 2, 3, 4, 5]\n"
     ]
    }
   ],
   "source": [
    "#ECE 13\n",
    "#EX 1 : \n",
    "def recherche(elt,tab):\n",
    "    for i in range(len(tab)):\n",
    "        if tab[i] == elt:\n",
    "            return i\n",
    "    return None\n",
    "\n",
    "print(recherche(1, [10, 12, 1, 56]))\n",
    "#EX 2 : \n",
    "def insere(tab, a):\n",
    "    \"\"\"\n",
    "    Insère l'élément a (int) dans le tableau tab (list)\n",
    "    trié par ordre croissant à sa place et renvoie le\n",
    "    nouveau tableau.\n",
    "    \"\"\"\n",
    "    tab_a = [ a ] + tab # nouveau tableau contenant a\n",
    "    # suivi des éléments de tab\n",
    "    i = 0\n",
    "    while i < len(tab) and a > tab[i]:\n",
    "        tab_a[i] = tab[i]\n",
    "        tab_a[i+1] = a\n",
    "        i += 1\n",
    "    return tab_a\n",
    "\n",
    "print(insere([1, 2, 7, 12, 14, 25], 30))\n",
    "print(insere([1, 2, 4, 5], 3))\n"
   ]
  },
  {
   "cell_type": "code",
   "execution_count": null,
   "id": "a964001d",
   "metadata": {},
   "outputs": [
    {
     "name": "stdout",
     "output_type": "stream",
     "text": [
      "[5, 4, 5, 2, 4]\n",
      "False\n",
      "4\n",
      "5\n",
      "[[235, 221, 1, 110, 249], [232, 131, 18, 30, 186], [58, 81, 48, 230, 168], [0, 255, 231, 58, 66]]\n",
      "[[0, 0, 255, 255, 0], [0, 255, 255, 255, 0], [255, 255, 255, 0, 0], [255, 0, 0, 255, 255]]\n"
     ]
    }
   ],
   "source": [
    "#ECE 14\n",
    "#EX 1 : \n",
    "import random as rd\n",
    "def lancer(n): # Juste un petit rd.randint, rien de dur\n",
    "    tab = []\n",
    "    for i in range(n):\n",
    "        tab.append(rd.randint(1,6))\n",
    "    return tab\n",
    "\n",
    "def paire_6(tab): #La faut juste compter le nombre de 6 et dire si y'en plus que 2\n",
    "    nb = 0\n",
    "    for i in tab:\n",
    "        if i == 6:\n",
    "            nb+=1\n",
    "    return nb >= 2\n",
    "\n",
    "lancer_5 = lancer(5)\n",
    "print(lancer_5)\n",
    "print(paire_6(lancer_5))\n",
    "\n",
    "#EX 2 : \n",
    "def nombre_lignes(image):\n",
    "    '''renvoie le nombre de lignes de l'image'''\n",
    "    return len(image)\n",
    "\n",
    "def nombre_colonnes(image):\n",
    "    '''renvoie la largeur de l'image'''\n",
    "    return len(image[0])\n",
    "\n",
    "def negatif(image):\n",
    "    '''renvoie le negatif de l'image sous la forme\n",
    "    d'une liste de listes'''\n",
    "    # on cree une image de 0 aux memes dimensions\n",
    "    # que le parametre image\n",
    "    nouvelle_image = [[0 for k in range(nombre_colonnes(image))] for i in range(nombre_lignes(image))]\n",
    "    for i in range(nombre_lignes(image)):\n",
    "        for j in range(nombre_colonnes(image)):\n",
    "            nouvelle_image[i][j] = 255 - image[i][j]\n",
    "    return nouvelle_image\n",
    "\n",
    "def binaire(image, seuil):\n",
    "    '''renvoie une image binarisee de l'image sous la forme\n",
    "    d'une liste de listes contenant des 0 si la valeur\n",
    "    du pixel est strictement inferieure au seuil et 255 sinon'''\n",
    "    nouvelle_image = [[0] * nombre_colonnes(image) for i in range(nombre_lignes(image))]\n",
    "    for i in range(nombre_lignes(image)):\n",
    "        for j in range(nombre_colonnes(image)):\n",
    "            if image[i][j] < seuil :\n",
    "                nouvelle_image[i][j] = 0\n",
    "            else:\n",
    "                nouvelle_image[i][j] = 255\n",
    "    return nouvelle_image\n",
    "\n",
    "img=[[20, 34, 254, 145, 6], [23, 124, 237, 225, 69],\n",
    "[197, 174, 207, 25, 87], [255, 0, 24, 197, 189]]\n",
    "print(nombre_lignes(img))\n",
    "print(nombre_colonnes(img))\n",
    "print(negatif(img))\n",
    "print(binaire(img,120))"
   ]
  },
  {
   "cell_type": "code",
   "execution_count": 27,
   "id": "1369326c",
   "metadata": {},
   "outputs": [
    {
     "name": "stdout",
     "output_type": "stream",
     "text": [
      "-32\n"
     ]
    },
    {
     "data": {
      "text/plain": [
       "2"
      ]
     },
     "execution_count": 27,
     "metadata": {},
     "output_type": "execute_result"
    }
   ],
   "source": [
    "#ECE 15\n",
    "#EX 1 : \n",
    "def multiplication(a,b): #Pareil qu'avant\n",
    "    nb = 0\n",
    "    if b > 0:\n",
    "        for i in range(b):\n",
    "            nb += a\n",
    "    else:\n",
    "        for i in range(-b):\n",
    "            nb -= a\n",
    "    return nb\n",
    "\n",
    "print(multiplication(4,-8))\n",
    "#EX 2 : \n",
    "def chercher(tab, x, i, j):\n",
    "    '''Renvoie l'indice de x dans tab, si x est dans tab,\n",
    "    None sinon.\n",
    "    On suppose que tab est trié dans l'ordre croissant.'''\n",
    "    if i > j:\n",
    "        return None\n",
    "    m = (i + j) // 2\n",
    "    if tab[m] < x:\n",
    "        return chercher(tab, x, m+1 , j)\n",
    "    elif tab[m] > x:\n",
    "        return chercher(tab, x, i , m-1)\n",
    "    else:\n",
    "        return m\n",
    "    \n",
    "chercher([1, 5, 6, 6, 9, 12], 6, 0, 5)\n",
    "\n"
   ]
  },
  {
   "cell_type": "code",
   "execution_count": 39,
   "id": "ff3a967f",
   "metadata": {},
   "outputs": [
    {
     "name": "stdout",
     "output_type": "stream",
     "text": [
      "12.5\n",
      "[1, 4, 6, 4, 1]\n"
     ]
    },
    {
     "data": {
      "text/plain": [
       "[[1], [1, 1], [1, 2, 1], [1, 3, 3, 1]]"
      ]
     },
     "execution_count": 39,
     "metadata": {},
     "output_type": "execute_result"
    }
   ],
   "source": [
    "#ECE 16\n",
    "#EX 1 : \n",
    "def moyenne(notes):\n",
    "    s = 0\n",
    "    c = 0\n",
    "    for i in notes:\n",
    "        s += i[0]*i[1]\n",
    "        c += i[1]\n",
    "    return s/c\n",
    "\n",
    "print(moyenne([(15.0,2),(9.0,1),(12.0,3)]))\n",
    "#EX 2 : \n",
    "def ligne_suivante(ligne):\n",
    "    '''Renvoie la ligne suivant ligne du triangle de Pascal'''\n",
    "    ligne_suiv = [1]\n",
    "    for i in range(1,len(ligne)):\n",
    "        ligne_suiv.append(ligne[i]+ligne[i-1])\n",
    "    ligne_suiv.append(1)\n",
    "    return ligne_suiv\n",
    "\n",
    "def pascal(n):\n",
    "    '''Renvoie le triangle de Pascal de hauteur n'''\n",
    "    triangle = [ [1] ]\n",
    "    for k in range(n):\n",
    "        ligne_k = ligne_suivante(triangle[k])\n",
    "        triangle.append(ligne_k)\n",
    "    return triangle\n",
    "\n",
    "print(ligne_suivante([1, 3, 3, 1]))\n",
    "pascal(3)\n"
   ]
  },
  {
   "cell_type": "code",
   "execution_count": 45,
   "id": "e1b55e01",
   "metadata": {},
   "outputs": [
    {
     "name": "stdout",
     "output_type": "stream",
     "text": [
      "2 4\n"
     ]
    },
    {
     "data": {
      "text/plain": [
       "[7, 8, 4, 9]"
      ]
     },
     "execution_count": 45,
     "metadata": {},
     "output_type": "execute_result"
    }
   ],
   "source": [
    "#ECE 17\n",
    "#EX 1 : \n",
    "class Noeud:\n",
    "    def __init__(self, etiquette, gauche, droit):\n",
    "        self.v = etiquette\n",
    "        self.gauche = gauche\n",
    "        self.droit = droit\n",
    "\n",
    "def taille(a):\n",
    "    if a == None:\n",
    "        return 0\n",
    "    else:\n",
    "        return 1 + taille(a.gauche) + taille(a.droit)\n",
    "\n",
    "def hauteur(a):\n",
    "    if a == None:\n",
    "        return -1\n",
    "    else:\n",
    "        return 1 + max(hauteur(a.gauche),hauteur(a.droit))\n",
    "\n",
    "a = Noeud(1, Noeud(4, None, None),Noeud(0, None,Noeud(7, None, None)))\n",
    "print(hauteur(a),taille(a))\n",
    "\n",
    "#EX 2 : \n",
    "def ajoute(indice, element, tab):\n",
    "    '''Renvoie un nouveau tableau obtenu en insérant\n",
    "    element à l'indice indice dans le tableau tab.'''\n",
    "    nbre_elts = len(tab)\n",
    "    tab_ins = [0] * (nbre_elts + 1)\n",
    "    for i in range(indice):\n",
    "        tab_ins[i] = tab[i]\n",
    "    tab_ins[i+1] = element\n",
    "    for i in range(indice + 1, nbre_elts + 1):\n",
    "        tab_ins[i] = tab[i-1]\n",
    "    return tab_ins\n",
    "\n",
    "ajoute(2, 4, [7, 8, 9])"
   ]
  },
  {
   "cell_type": "code",
   "execution_count": 47,
   "id": "ca2b811a",
   "metadata": {},
   "outputs": [
    {
     "data": {
      "text/plain": [
       "True"
      ]
     },
     "execution_count": 47,
     "metadata": {},
     "output_type": "execute_result"
    }
   ],
   "source": [
    "#ECE 18\n",
    "#EX 1 : \n",
    "def moyenne(tab): #Encore une fois c'est enfantin\n",
    "    s = 0\n",
    "    for i in tab:\n",
    "        s += i\n",
    "    return i/len(tab)\n",
    "#EX 2 : \n",
    "def dichotomie(tab, x):\n",
    "    \"\"\"applique une recherche dichotomique pour déterminer\n",
    "    si x est dans le tableau trié tab.\n",
    "    La fonction renvoie True si tab contient x et False sinon\"\"\"\n",
    "    debut = 0\n",
    "    fin = len(tab)\n",
    "    while debut <= fin:\n",
    "        m = (debut+fin)//2\n",
    "        if x == tab[m]:\n",
    "            return True\n",
    "        if x > tab[m]:\n",
    "            debut = m+1\n",
    "        else:\n",
    "            fin = m-1\n",
    "    return False\n",
    "\n",
    "dichotomie([15, 16, 18, 19, 23, 24, 28, 29, 31, 33], 28)"
   ]
  },
  {
   "cell_type": "code",
   "execution_count": null,
   "id": "fcd832dd",
   "metadata": {},
   "outputs": [
    {
     "name": "stdout",
     "output_type": "stream",
     "text": [
      "2\n",
      "0 15\n",
      "4 14\n",
      "5 13\n",
      "7 12\n",
      "8 11\n"
     ]
    },
    {
     "data": {
      "text/plain": [
       "[0, 0, 0, 0, 0, 0, 0, 0, 0, 0, 1, 1, 1, 1, 1, 1]"
      ]
     },
     "execution_count": 54,
     "metadata": {},
     "output_type": "execute_result"
    }
   ],
   "source": [
    "#ECE 19\n",
    "#EX 1 : \n",
    "def recherche_min(tab):\n",
    "    min = 0\n",
    "    for i in range(len(tab)):\n",
    "        if tab[i] < tab[min]:\n",
    "            min = i\n",
    "    return min\n",
    "\n",
    "print(recherche_min([5, 3, 2, 2, 4]))\n",
    "\n",
    "#EX 2 : \n",
    "def separe(tab):\n",
    "    '''Separe les 0 et les 1 dans le tableau tab'''\n",
    "    gauche = 0\n",
    "    droite = len(tab)-1\n",
    "    while gauche < droite:\n",
    "        if tab[gauche] == 0 :\n",
    "            gauche += 1\n",
    "        else :\n",
    "            tab[gauche] = 0\n",
    "            tab[droite] = 1\n",
    "            droite -= 1 \n",
    "    return tab\n",
    "\n",
    "separe([1, 0, 0, 0, 1, 1, 0, 1, 1, 0, 1, 0, 1, 1, 1, 0])\n"
   ]
  },
  {
   "cell_type": "code",
   "execution_count": 62,
   "id": "0a8fc87b",
   "metadata": {},
   "outputs": [
    {
     "name": "stdout",
     "output_type": "stream",
     "text": [
      "{'min': -2, 'max': 9}\n",
      "[<__main__.Carte object at 0x000002356654D2B0>, <__main__.Carte object at 0x0000023566417ED0>, <__main__.Carte object at 0x0000023566417890>, <__main__.Carte object at 0x00000235663DA780>, <__main__.Carte object at 0x00000235663DA8B0>, <__main__.Carte object at 0x0000023565F11910>, <__main__.Carte object at 0x0000023566565E10>, <__main__.Carte object at 0x0000023566565D00>, <__main__.Carte object at 0x000002356666F650>, <__main__.Carte object at 0x000002356666E950>, <__main__.Carte object at 0x0000023566607980>, <__main__.Carte object at 0x0000023566607E30>, <__main__.Carte object at 0x00000235664935B0>, <__main__.Carte object at 0x0000023566492890>, <__main__.Carte object at 0x00000235666942C0>, <__main__.Carte object at 0x0000023566630D10>, <__main__.Carte object at 0x00000235666307D0>, <__main__.Carte object at 0x000002356659BEE0>, <__main__.Carte object at 0x000002356659BE30>, <__main__.Carte object at 0x00000235666AC050>, <__main__.Carte object at 0x00000235666ADB30>, <__main__.Carte object at 0x00000235666830B0>, <__main__.Carte object at 0x0000023566688BD0>, <__main__.Carte object at 0x0000023566688DD0>, <__main__.Carte object at 0x000002356667BBD0>, <__main__.Carte object at 0x00000235666BC910>, <__main__.Carte object at 0x0000023566667CB0>, <__main__.Carte object at 0x00000235666A4050>, <__main__.Carte object at 0x00000235666A4170>, <__main__.Carte object at 0x00000235666A4110>, <__main__.Carte object at 0x00000235666A46B0>, <__main__.Carte object at 0x00000235666A4710>, <__main__.Carte object at 0x00000235666A4770>, <__main__.Carte object at 0x00000235666A47D0>, <__main__.Carte object at 0x00000235666A4830>, <__main__.Carte object at 0x00000235666A5970>, <__main__.Carte object at 0x00000235666A59D0>, <__main__.Carte object at 0x00000235666A5AF0>, <__main__.Carte object at 0x00000235666A5B50>, <__main__.Carte object at 0x00000235666A5BB0>, <__main__.Carte object at 0x00000235666A5C10>, <__main__.Carte object at 0x00000235666A5C70>, <__main__.Carte object at 0x00000235666A5CD0>, <__main__.Carte object at 0x00000235666A5D30>, <__main__.Carte object at 0x00000235666A5D90>, <__main__.Carte object at 0x00000235666A61B0>, <__main__.Carte object at 0x00000235666A6210>, <__main__.Carte object at 0x00000235666A6270>, <__main__.Carte object at 0x00000235666A62D0>, <__main__.Carte object at 0x00000235666A6330>, <__main__.Carte object at 0x00000235666A6390>, <__main__.Carte object at 0x00000235666A63F0>]\n",
      "As de pique\n"
     ]
    }
   ],
   "source": [
    "#ECE 20\n",
    "#EX 1 : \n",
    "def min_et_max(tab):\n",
    "    dico = {\"min\":tab[0],\"max\":tab[0]}\n",
    "    for i in tab:\n",
    "        if i < dico[\"min\"]:\n",
    "            dico[\"min\"] = i\n",
    "        if i > dico[\"max\"]:\n",
    "            dico[\"max\"] = i\n",
    "    return dico\n",
    "\n",
    "print(min_et_max([0, 1, 4, 2, -2, 9, 3, 1, 7, 1]))\n",
    "#EX 2 : \n",
    "class Carte:\n",
    "    def __init__(self, c, v):\n",
    "        \"\"\"Initialise les attributs couleur (entre 1 et 4),\n",
    "        et valeur (entre 1 et 13). \"\"\"\n",
    "        self.couleur = c\n",
    "        self.valeur = v\n",
    "\n",
    "    def recuperer_valeur(self):\n",
    "        \"\"\" Renvoie la valeur de la carte :\n",
    "        As, 2, ..., 10, Valet, Dame, Roi \"\"\"\n",
    "        valeurs = ['As','2', '3', '4', '5', '6', '7', '8','9', '10', 'Valet', 'Dame', 'Roi']\n",
    "        return valeurs[self.valeur - 1]\n",
    "\n",
    "    def recuperer_couleur(self):\n",
    "        \"\"\" Renvoie la couleur de la carte\n",
    "        (parmi pique, coeur, carreau, trèfle). \"\"\"\n",
    "        couleurs = ['pique', 'coeur', 'carreau', 'trèfle']\n",
    "        return couleurs[self.couleur - 1]\n",
    "\n",
    "class Paquet_de_cartes:\n",
    "    def __init__(self):\n",
    "        \"\"\" Initialise l'attribut contenu avec une liste des 52\n",
    "        objets Carte possibles rangés par valeurs croissantes en\n",
    "        commençant par pique, puis cœur, carreau et trèfle. \"\"\"\n",
    "        self.contenu = []\n",
    "        for i in range(1,5):\n",
    "            for j in range(1,14):\n",
    "                self.contenu.append(Carte(i,j))\n",
    "\n",
    "    def recuperer_carte(self, pos):\n",
    "        \"\"\" Renvoie la carte qui se trouve à la position pos\n",
    "        (entier compris entre 0 et 51). \"\"\"\n",
    "        assert 0<=pos<=51, \"le paramètre pos est incorrecte, pas compris entre 0 et 51\"\n",
    "        return self.contenu[pos]\n",
    "jeu = Paquet_de_cartes()\n",
    "print(jeu.contenu)\n",
    "carte1 = jeu.recuperer_carte(0)\n",
    "print(carte1.recuperer_valeur() + \" de \" + carte1.recuperer_couleur())"
   ]
  },
  {
   "cell_type": "code",
   "execution_count": 66,
   "id": "80de6fbc",
   "metadata": {},
   "outputs": [
    {
     "name": "stdout",
     "output_type": "stream",
     "text": [
      "(9, [3, 8])\n",
      "[5, 4, 3, 2, 1]\n",
      "[0, 5, 4, 10, 9]\n"
     ]
    }
   ],
   "source": [
    "#ECE 21\n",
    "#EX 1 : \n",
    "def indices_maxi(tab):\n",
    "    maxi = tab[0]\n",
    "    indice = []\n",
    "    for i in range(len(tab)):\n",
    "        if tab[i] > maxi:\n",
    "            maxi = tab[i]\n",
    "            indice = [i]\n",
    "        elif tab[i] == maxi:\n",
    "            indice.append(i)\n",
    "    return (maxi,indice)\n",
    "\n",
    "print(indices_maxi([1, 5, 6, 9, 1, 2, 3, 7, 9, 8]))\n",
    "#EX 2 : \n",
    "def renverse(pile):\n",
    "    '''renvoie une pile contenant les mêmes éléments que pile,\n",
    "    mais dans l'ordre inverse.\n",
    "    Cette fonction détruit pile.'''\n",
    "    pile_inverse = []\n",
    "    while pile != []:\n",
    "        pile_inverse.append(pile.pop())\n",
    "    return pile_inverse\n",
    "def positifs(pile):\n",
    "    '''renvoie une pile contenant les éléments positifs de pile,\n",
    "    dans le même ordre. Cette fonction détruit pile.'''\n",
    "    pile_positifs = []\n",
    "    while pile != []:\n",
    "        n = pile.pop()\n",
    "        if n >= 0:\n",
    "            pile_positifs.append(n)\n",
    "    return renverse(pile_positifs)\n",
    "\n",
    "print(renverse([1, 2, 3, 4, 5]))\n",
    "print(positifs([-1, 0, 5, -3, 4, -6, 10, 9, -8]))\n",
    "\n"
   ]
  },
  {
   "cell_type": "code",
   "execution_count": 71,
   "id": "b35dac82",
   "metadata": {},
   "outputs": [
    {
     "name": "stdout",
     "output_type": "stream",
     "text": [
      "5\n",
      "None\n",
      "[192, 168, 0, 1]\n",
      "False\n",
      "True\n"
     ]
    }
   ],
   "source": [
    "#ECE 22\n",
    "#EX 1 : \n",
    "def recherche(elt,tab):\n",
    "    ind = None\n",
    "    for i in range(len(tab)):\n",
    "        if tab[i] == elt:\n",
    "            ind = i\n",
    "    return ind\n",
    "\n",
    "print(recherche(1, [8, 1, 10, 1, 7, 1, 8]))\n",
    "print(recherche(2, [8, 1, 10, 1, 7, 1, 8]))\n",
    "\n",
    "#EX 2 : \n",
    "class AdresseIP:\n",
    "    def __init__(self, adresse):\n",
    "        self.adresse = adresse\n",
    "\n",
    "    def liste_octets(self):\n",
    "            \"\"\"renvoie une liste de nombres entiers,\n",
    "            la liste des octets de l'adresse IP\"\"\"\n",
    "            # Note : split découpe la chaine de caractères\n",
    "            # en fonction du séparateur\n",
    "            return [int(i) for i in self.adresse.split(\".\")]\n",
    "        \n",
    "    def est_reservee(self):\n",
    "            \"\"\"renvoie True si l'adresse IP est une adresse\n",
    "            réservée, False sinon\"\"\"\n",
    "            reservees = [  \"192.168.0.0\", \"192.168.0.255\" ]\n",
    "            return self.adresse in reservees\n",
    "        \n",
    "    def adresse_suivante(self):\n",
    "            \"\"\"renvoie un objet de AdresseIP avec l'adresse\n",
    "            IP qui suit l'adresse self si elle existe et None sinon\"\"\"\n",
    "            octets = self.liste_octets()\n",
    "            if octets[-1] == 254:\n",
    "                return None\n",
    "            octet_nouveau = octets[-1] + 1\n",
    "            return AdresseIP('192.168.0.' + octet_nouveau)\n",
    "    \n",
    "adresse1 = AdresseIP('192.168.0.1')\n",
    "adresse2 = AdresseIP('192.168.0.2')\n",
    "adresse3 = AdresseIP('192.168.0.0')\n",
    "print(adresse1.liste_octets())\n",
    "print(adresse1.est_reservee())\n",
    "print(adresse3.est_reservee())\n"
   ]
  },
  {
   "cell_type": "code",
   "execution_count": null,
   "id": "cea6e7e0",
   "metadata": {},
   "outputs": [
    {
     "name": "stdout",
     "output_type": "stream",
     "text": [
      "[2, 0, 1, 0, 1, 4, 2, 1, 0, 5, 1]\n",
      "[0, 0, 2, 4, 5, 5, 5, 5, 6, 6, 7, 9, 9, 9, 9, 9, 10]\n",
      "11001\n",
      "42\n"
     ]
    }
   ],
   "source": [
    "#ECE 23\n",
    "#EX 1 : \n",
    "def effectif_notes(tab): #C compliqué pour rien, on va juste\n",
    "    eff = [0] * 11\n",
    "    for i in range(12):\n",
    "        for j in tab:\n",
    "            if i == j:\n",
    "                eff[i]+=1\n",
    "    return eff\n",
    "\n",
    "def notes_triees(tab):\n",
    "    tri = []\n",
    "    for i in range(len(tab)):\n",
    "        for j in range(tab[i]):\n",
    "            tri.append(i)\n",
    "    return tri\n",
    "\n",
    "eff = effectif_notes([2, 0, 5, 9, 6, 9, 10, 5, 7,9, 9, 5, 0, 9, 6, 5, 4])\n",
    "print(eff)\n",
    "print(notes_triees(eff))\n",
    "\n",
    "#EX 2 : \n",
    "def dec_to_bin(nb_dec):\n",
    "    q, r = nb_dec // 2, nb_dec % 2\n",
    "    if q == 0:\n",
    "        return str(r)\n",
    "    else:\n",
    "        return dec_to_bin(q) + str(r)\n",
    "\n",
    "def bin_to_dec(nb_bin):\n",
    "    if len(nb_bin) == 1:\n",
    "        if nb_bin == '0':\n",
    "            return 0\n",
    "        else:\n",
    "            return 1\n",
    "    else:\n",
    "        if nb_bin[-1] == '0':\n",
    "            bit_droit = 0\n",
    "        else:\n",
    "            bit_droit = 1\n",
    "        return 2 * bin_to_dec(nb_bin[:-1]) + bit_droit\n",
    "\n",
    "print(dec_to_bin(25))\n",
    "print(bin_to_dec('101010'))\n"
   ]
  },
  {
   "cell_type": "code",
   "execution_count": 83,
   "id": "1fbf368d",
   "metadata": {},
   "outputs": [
    {
     "name": "stdout",
     "output_type": "stream",
     "text": [
      "{1: [0, 1, 5], 2: [2, 4], 3: [3]}\n",
      "2\n"
     ]
    }
   ],
   "source": [
    "#ECE 24\n",
    "#EX 1 : \n",
    "def enumere(tab):\n",
    "    dico = {}\n",
    "    for i in range(len(tab)):\n",
    "        if tab[i] in dico:\n",
    "            dico[tab[i]].append(i)\n",
    "        else:\n",
    "            dico[tab[i]] = [i]\n",
    "    return dico\n",
    "\n",
    "print(enumere([1, 1, 2, 3, 2, 1]))\n",
    "\n",
    "#EX 2 : \n",
    "class Noeud:\n",
    "    \"\"\"Classe représentant un noeud d'un arbre binaire\"\"\"\n",
    "    def __init__(self, etiquette, gauche, droit):\n",
    "        \"\"\"Crée un noeud de valeur etiquette avecgauche et droit comme fils.\"\"\"\n",
    "        self.etiquette = etiquette\n",
    "        self.gauche = gauche\n",
    "        self.droit = droit\n",
    "\n",
    "def parcours(arbre, liste):\n",
    "        \"\"\"parcours récursivement l'arbre en ajoutant les étiquettes\n",
    "        de ses noeuds à la liste passée en argument en ordre infixe.\"\"\"\n",
    "        if arbre != None:\n",
    "            parcours(arbre.gauche, liste)            \n",
    "            liste.append(arbre.etiquette)\n",
    "            parcours(arbre.droit, liste)\n",
    "        return liste\n",
    "        \n",
    "def insere(arbre, cle):\n",
    "    \"\"\"insere la cle dans l'arbre binaire de recherche\n",
    "    représenté par arbre.\n",
    "    Retourne l'arbre modifié.\"\"\"\n",
    "    if arbre == None:\n",
    "        return Noeud(cle, None, None) # creation d'une feuille\n",
    "    else:\n",
    "        if cle < arbre.etiquette:\n",
    "            arbre.gauche = insere(arbre.gauche, cle)\n",
    "        else:\n",
    "            arbre.droit = insere(arbre.droit, cle)\n",
    "        return arbre\n",
    "\n",
    "Arbre = Noeud(5,None,None)\n",
    "print(insere(Arbre,2).gauche.etiquette)"
   ]
  },
  {
   "cell_type": "code",
   "execution_count": null,
   "id": "8f1d946a",
   "metadata": {},
   "outputs": [],
   "source": [
    "#ECE 25\n",
    "#EX 1 : \n",
    "\n",
    "#EX 2 : "
   ]
  },
  {
   "cell_type": "code",
   "execution_count": null,
   "id": "7e4c054e",
   "metadata": {},
   "outputs": [],
   "source": [
    "#ECE 26\n",
    "#EX 1 : \n",
    "\n",
    "#EX 2 : "
   ]
  },
  {
   "cell_type": "code",
   "execution_count": null,
   "id": "eee7e40e",
   "metadata": {},
   "outputs": [],
   "source": [
    "#ECE 27\n",
    "#EX 1 : \n",
    "\n",
    "#EX 2 : "
   ]
  },
  {
   "cell_type": "code",
   "execution_count": null,
   "id": "ad75c349",
   "metadata": {},
   "outputs": [],
   "source": [
    "#ECE 28\n",
    "#EX 1 : \n",
    "\n",
    "#EX 2 : "
   ]
  },
  {
   "cell_type": "code",
   "execution_count": null,
   "id": "609abae4",
   "metadata": {},
   "outputs": [],
   "source": [
    "#ECE 29\n",
    "#EX 1 : \n",
    "\n",
    "#EX 2 : "
   ]
  },
  {
   "cell_type": "code",
   "execution_count": null,
   "id": "c4a64a08",
   "metadata": {},
   "outputs": [],
   "source": [
    "#ECE 30\n",
    "#EX 1 : \n",
    "\n",
    "#EX 2 : "
   ]
  },
  {
   "cell_type": "code",
   "execution_count": null,
   "id": "a8932aa2",
   "metadata": {},
   "outputs": [],
   "source": [
    "#ECE 31\n",
    "#EX 1 : \n",
    "\n",
    "#EX 2 : "
   ]
  },
  {
   "cell_type": "code",
   "execution_count": null,
   "id": "f6a8a7ee",
   "metadata": {},
   "outputs": [],
   "source": [
    "#ECE 32\n",
    "#EX 1 : \n",
    "\n",
    "#EX 2 : "
   ]
  },
  {
   "cell_type": "code",
   "execution_count": null,
   "id": "821b8082",
   "metadata": {},
   "outputs": [],
   "source": [
    "#ECE 33\n",
    "#EX 1 : \n",
    "\n",
    "#EX 2 : "
   ]
  },
  {
   "cell_type": "code",
   "execution_count": null,
   "id": "79916d58",
   "metadata": {},
   "outputs": [],
   "source": [
    "#ECE 34\n",
    "#EX 1 : \n",
    "\n",
    "#EX 2 : "
   ]
  },
  {
   "cell_type": "code",
   "execution_count": null,
   "id": "4852185a",
   "metadata": {},
   "outputs": [],
   "source": [
    "#ECE 35\n",
    "#EX 1 : \n",
    "\n",
    "#EX 2 : "
   ]
  },
  {
   "cell_type": "code",
   "execution_count": null,
   "id": "252a12d1",
   "metadata": {},
   "outputs": [],
   "source": [
    "#ECE 36\n",
    "#EX 1 : \n",
    "\n",
    "#EX 2 : "
   ]
  },
  {
   "cell_type": "code",
   "execution_count": null,
   "id": "0a496c01",
   "metadata": {},
   "outputs": [],
   "source": [
    "#ECE 37\n",
    "#EX 1 : \n",
    "\n",
    "#EX 2 : \n"
   ]
  },
  {
   "cell_type": "code",
   "execution_count": null,
   "id": "7be4cf16",
   "metadata": {},
   "outputs": [],
   "source": [
    "#ECE 38\n",
    "#EX 1 : \n",
    "\n",
    "#EX 2 : "
   ]
  },
  {
   "cell_type": "code",
   "execution_count": null,
   "id": "00be0c18",
   "metadata": {},
   "outputs": [],
   "source": [
    "#ECE 39\n",
    "#EX 1 : \n",
    "\n",
    "#EX 2 : "
   ]
  },
  {
   "cell_type": "code",
   "execution_count": null,
   "id": "4cc281c4",
   "metadata": {},
   "outputs": [],
   "source": [
    "#ECE 40\n",
    "#EX 1 : \n",
    "\n",
    "#EX 2 : "
   ]
  },
  {
   "cell_type": "code",
   "execution_count": null,
   "id": "67da4d70",
   "metadata": {},
   "outputs": [],
   "source": [
    "#ECE 41\n",
    "#EX 1 : \n",
    "\n",
    "#EX 2 : "
   ]
  },
  {
   "cell_type": "code",
   "execution_count": null,
   "id": "ffe58477",
   "metadata": {},
   "outputs": [],
   "source": [
    "#ECE 42\n",
    "#EX 1 : \n",
    "\n",
    "#EX 2 : "
   ]
  },
  {
   "cell_type": "code",
   "execution_count": null,
   "id": "ffb8062f",
   "metadata": {},
   "outputs": [],
   "source": [
    "#ECE 43\n",
    "#EX 1 : \n",
    "\n",
    "#EX 2 : "
   ]
  },
  {
   "cell_type": "code",
   "execution_count": null,
   "id": "2142c44a",
   "metadata": {},
   "outputs": [],
   "source": [
    "#ECE 44\n",
    "#EX 1 : \n",
    "\n",
    "#EX 2 : "
   ]
  },
  {
   "cell_type": "code",
   "execution_count": null,
   "id": "6af277b7",
   "metadata": {},
   "outputs": [],
   "source": [
    "#ECE 45\n",
    "#EX 1 : \n",
    "\n",
    "#EX 2 : "
   ]
  },
  {
   "cell_type": "code",
   "execution_count": null,
   "id": "ab707674",
   "metadata": {},
   "outputs": [],
   "source": [
    "#ECE 46\n",
    "#EX 1 : \n",
    "\n",
    "#EX 2 : "
   ]
  },
  {
   "cell_type": "code",
   "execution_count": null,
   "id": "cc644a99",
   "metadata": {},
   "outputs": [],
   "source": [
    "#ECE 47\n",
    "#EX 1 : \n",
    "\n",
    "#EX 2 : "
   ]
  },
  {
   "cell_type": "code",
   "execution_count": null,
   "id": "8eecb9d2",
   "metadata": {},
   "outputs": [],
   "source": [
    "#ECE 48\n",
    "#EX 1 : \n",
    "\n",
    "#EX 2 : "
   ]
  }
 ],
 "metadata": {
  "kernelspec": {
   "display_name": "Python 3",
   "language": "python",
   "name": "python3"
  },
  "language_info": {
   "codemirror_mode": {
    "name": "ipython",
    "version": 3
   },
   "file_extension": ".py",
   "mimetype": "text/x-python",
   "name": "python",
   "nbconvert_exporter": "python",
   "pygments_lexer": "ipython3",
   "version": "3.13.0"
  }
 },
 "nbformat": 4,
 "nbformat_minor": 5
}
